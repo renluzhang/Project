{
 "cells": [
  {
   "cell_type": "markdown",
   "metadata": {},
   "source": [
    "# Project 4 - Group 16\n",
    "Names: Yixuan Huang, Anuj Patel, Yunfan Wang, Renlu Zhang\n",
    "\n",
    "**Attestation**: All 4 of us agree that we each contributed substantially to the following tasks in our project: selecting our datasets and the questions we wanted to answer, wrangling and cleaning the datasets, writing the scripts to conform our data to our schema and conduct our analysis, and prepare our presentation.\n",
    "\n",
    "***\n",
    "\n",
    "## Part 1 - Selection\n",
    "\n",
    "Our group chose to analyze traffic collisions in New York City. Our dataset, which we found on the NYC open data website https://data.cityofnewyork.us/Public-Safety/NYPD-Motor-Vehicle-Collisions/h9gi-nx95, contains time, location, vehicle, cause, and victim data for each collision. Because each row in the dataset represents one traffic collision event, we believe that this data set is at the \"transactional\" level (a collision is a transaction). We thought this would be an interesting dataset to study as we were curious about what insights we could find about accidents in the most densely populated city in the US. Let's begin by downloading our data and exploring it."
   ]
  },
  {
   "cell_type": "code",
   "execution_count": 1,
   "metadata": {},
   "outputs": [
    {
     "name": "stdout",
     "output_type": "stream",
     "text": [
      "--2018-12-10 15:09:08--  https://data.cityofnewyork.us/api/views/h9gi-nx95/rows.csv\n",
      "Resolving data.cityofnewyork.us (data.cityofnewyork.us)... 52.206.140.199, 52.206.68.26, 52.206.140.205\n",
      "Connecting to data.cityofnewyork.us (data.cityofnewyork.us)|52.206.140.199|:443... connected.\n",
      "HTTP request sent, awaiting response... 200 OK\n",
      "Length: unspecified [text/csv]\n",
      "Saving to: ‘rows.csv’\n",
      "\n",
      "rows.csv                [     <=>            ] 289.91M  53.4MB/s    in 6.0s    \n",
      "\n",
      "Last-modified header invalid -- time-stamp ignored.\n",
      "2018-12-10 15:09:14 (48.7 MB/s) - ‘rows.csv’ saved [303997087]\n",
      "\n"
     ]
    }
   ],
   "source": [
    "!wget \"https://data.cityofnewyork.us/api/views/h9gi-nx95/rows.csv\""
   ]
  },
  {
   "cell_type": "markdown",
   "metadata": {},
   "source": [
    "Let's find out the number of lines in the dataset. When we downloaded and cleaned the data on 11/28/2018, it had 1,385,920 lines. **Note that this number will be different as the NYPD updates the dataset regularly. Because we are using Trifacta for data cleaning, we are unable to create an automated cleaning flow within this notebook that handles the addition of new entries.**"
   ]
  },
  {
   "cell_type": "code",
   "execution_count": 2,
   "metadata": {},
   "outputs": [
    {
     "name": "stdout",
     "output_type": "stream",
     "text": [
      "1386002\n"
     ]
    }
   ],
   "source": [
    "!xsv count rows.csv"
   ]
  },
  {
   "cell_type": "markdown",
   "metadata": {},
   "source": [
    "What columns are currently in the dataset? What does the data in them look like?"
   ]
  },
  {
   "cell_type": "code",
   "execution_count": 3,
   "metadata": {},
   "outputs": [
    {
     "name": "stdout",
     "output_type": "stream",
     "text": [
      "  1: DATE\n",
      "  2: TIME\n",
      "  3: BOROUGH\n",
      "  4: ZIP CODE\n",
      "  5: LATITUDE\n",
      "  6: LONGITUDE\n",
      "  7: LOCATION\n",
      "  8: ON STREET NAME\n",
      "  9: CROSS STREET NAME\n",
      " 10: OFF STREET NAME\n",
      " 11: NUMBER OF PERSONS INJURED\n",
      " 12: NUMBER OF PERSONS KILLED\n",
      " 13: NUMBER OF PEDESTRIANS INJURED\n",
      " 14: NUMBER OF PEDESTRIANS KILLED\n",
      " 15: NUMBER OF CYCLIST INJURED\n",
      " 16: NUMBER OF CYCLIST KILLED\n",
      " 17: NUMBER OF MOTORIST INJURED\n",
      " 18: NUMBER OF MOTORIST KILLED\n",
      " 19: CONTRIBUTING FACTOR VEHICLE 1\n",
      " 20: CONTRIBUTING FACTOR VEHICLE 2\n",
      " 21: CONTRIBUTING FACTOR VEHICLE 3\n",
      " 22: CONTRIBUTING FACTOR VEHICLE 4\n",
      " 23: CONTRIBUTING FACTOR VEHICLE 5\n",
      " 24: UNIQUE KEY\n",
      " 25: VEHICLE TYPE CODE 1\n",
      " 26: VEHICLE TYPE CODE 2\n",
      " 27: VEHICLE TYPE CODE 3\n",
      " 28: VEHICLE TYPE CODE 4\n",
      " 29: VEHICLE TYPE CODE 5\n"
     ]
    }
   ],
   "source": [
    "!csvstat -n rows.csv"
   ]
  },
  {
   "cell_type": "code",
   "execution_count": 4,
   "metadata": {},
   "outputs": [
    {
     "name": "stdout",
     "output_type": "stream",
     "text": [
      "|       DATE |    TIME | BOROUGH   | ZIP CODE | LATITUDE | LONGITUDE | LOCATION                | ON STREET NAME                   | CROSS STREET NAME | OFF STREET NAME | NUMBER OF PERSONS INJURED | NUMBER OF PERSONS KILLED | NUMBER OF PEDESTRIANS INJURED | NUMBER OF PEDESTRIANS KILLED | NUMBER OF CYCLIST INJURED | NUMBER OF CYCLIST KILLED | NUMBER OF MOTORIST INJURED | NUMBER OF MOTORIST KILLED | CONTRIBUTING FACTOR VEHICLE 1  | CONTRIBUTING FACTOR VEHICLE 2  | CONTRIBUTING FACTOR VEHICLE 3 | CONTRIBUTING FACTOR VEHICLE 4 | CONTRIBUTING FACTOR VEHICLE 5 | UNIQUE KEY | VEHICLE TYPE CODE 1                 | VEHICLE TYPE CODE 2                 | VEHICLE TYPE CODE 3 | VEHICLE TYPE CODE 4 | VEHICLE TYPE CODE 5 |\n",
      "| ---------- | ------- | --------- | -------- | -------- | --------- | ----------------------- | -------------------------------- | ----------------- | --------------- | ------------------------- | ------------------------ | ----------------------------- | ---------------------------- | ------------------------- | ------------------------ | -------------------------- | ------------------------- | ------------------------------ | ------------------------------ | ----------------------------- | ----------------------------- | ----------------------------- | ---------- | ----------------------------------- | ----------------------------------- | ------------------- | ------------------- | ------------------- |\n",
      "| 2018-11-16 | 0:00:10 | MANHATTAN |   10,010 |  40.742… |  -73.989… | (40.742275, -73.988914) | 5 AVENUE                         | BROADWAY          |                 |                         0 |                    False |                         False |                        False |                     False |                    False |                          0 |                     False | Unspecified                    | Unspecified                    |                               |                               |                               |  4,021,880 | Station Wagon/Sport Utility Vehicle | Station Wagon/Sport Utility Vehicle |                     |                     |                     |\n",
      "| 2018-11-16 | 0:00:40 |           |          |  40.763… |  -73.728… | (40.76272, -73.72817)   | LONG ISLAND EXPRESSWAY           |                   |                 |                         0 |                    False |                         False |                        False |                     False |                    False |                          0 |                     False | Pavement Slippery              | Pavement Slippery              |                               |                               |                               |  4,021,727 | Sedan                               | Pick-up Truck                       |                     |                     |                     |\n",
      "| 2018-11-16 | 0:00:45 | BROOKLYN  |   11,211 |  40.710… |  -73.958… | (40.710197, -73.95843)  | BORINQUEN PLACE                  | HAVEMEYER STREET  |                 |                         4 |                    False |                         False |                        False |                     False |                    False |                          4 |                     False | Driver Inattention/Distraction | Driver Inattention/Distraction |                               |                               |                               |  4,021,791 | Taxi                                | Taxi                                |                     |                     |                     |\n",
      "| 2018-11-16 | 0:01:00 | BRONX     |   10,454 |  40.804… |  -73.912… | (40.803555, -73.91184)  | EAST 137 STREET                  | WILLOW AVENUE     |                 |                         0 |                    False |                         False |                        False |                     False |                    False |                          0 |                     False | Pavement Slippery              | Unspecified                    |                               |                               |                               |  4,021,878 | Garbage or Refuse                   | Station Wagon/Sport Utility Vehicle |                     |                     |                     |\n"
     ]
    }
   ],
   "source": [
    "!head -n 5 rows.csv | csvlook"
   ]
  },
  {
   "cell_type": "markdown",
   "metadata": {},
   "source": [
    "Immediately, we know what the facts in this dataset are: the pedestrians/cyclists/motorists/persons injured or killed. For the sake of time, we will only analyze the aggregate persons injured and persons killed.\n",
    "\n",
    "Of the remaining columns, the ones that interest us the most are the contributing factors and vehicle types. We think that it would be interesting to find out which factors caused the most accidents, injuries, and deaths as well as which vehicle types caused the most accidents, injuries, and deaths. Additionally, we would love to examine whether there are any seasonal/time-related trends in the number of accidents and victims using the date and time columns. Lastly, we are also interested in finding any location patterns to traffic incidents and victims. For the sake of time, we will only study this at the borough level. The specific questions we want to answer are:\n",
    "* Which vehicle types caused the most injuries and deaths?\n",
    "* Which contributing factors caused the most injuries and deaths?\n",
    "* What are the trends in number of accidents, injuries, and deaths at the year, month, weekday, time of day, and hour level?\n",
    "* In which borough did the most accidents, injuries, and deaths occur? Were there any time-related trends within boroughs?\n",
    "\n",
    "Some concerns we have about the data are that there will be inconsistencies in the data entry, particularly in the vehicle types and contributing factors columns. While capitalization differences are easy to overcome, we already saw that there are possible values for vehicle types that are not mutually exclusive (ex. \"Sedan\" and \"Taxi\"). The conclusions achieved through those columns may be weakened as a result."
   ]
  },
  {
   "cell_type": "markdown",
   "metadata": {},
   "source": [
    "\n",
    "***\n",
    "#### BONUS\n",
    "\n",
    "For the bonus portion to identify and use an additional data source to complement our analysis, we chose to search for weather data (specifically precipitation or any conditions that affect driving). We found the NOAA portal and were able to download weather data from July 1st, 2012 to December 31st, 2014: https://www.ncdc.noaa.gov/cdo-web/datasets/PRECIP_HLY/locations/CITY:US360019/detail. While we hoped to find a dataset that covered a larger chunk of our collisions data, we will make do with only 1.5 years. Let's download and explore this dataset."
   ]
  },
  {
   "cell_type": "code",
   "execution_count": 5,
   "metadata": {
    "scrolled": false
   },
   "outputs": [
    {
     "name": "stdout",
     "output_type": "stream",
     "text": [
      "--2018-12-10 15:09:16--  https://s3.amazonaws.com/gwu-workshop-patel-2018/data-management-project-4/nyweather_jul1_12-jan1_14.csv\n",
      "Resolving s3.amazonaws.com (s3.amazonaws.com)... 52.216.107.206\n",
      "Connecting to s3.amazonaws.com (s3.amazonaws.com)|52.216.107.206|:443... connected.\n",
      "HTTP request sent, awaiting response... 200 OK\n",
      "Length: 444772 (434K) [text/csv]\n",
      "Saving to: ‘nyweather_jul1_12-jan1_14.csv’\n",
      "\n",
      "nyweather_jul1_12-j 100%[===================>] 434.35K  --.-KB/s    in 0.01s   \n",
      "\n",
      "2018-12-10 15:09:16 (38.6 MB/s) - ‘nyweather_jul1_12-jan1_14.csv’ saved [444772/444772]\n",
      "\n"
     ]
    }
   ],
   "source": [
    "!wget \"https://s3.amazonaws.com/gwu-workshop-patel-2018/data-management-project-4/nyweather_jul1_12-jan1_14.csv\""
   ]
  },
  {
   "cell_type": "markdown",
   "metadata": {},
   "source": [
    "Let's find out the number of lines in the dataset."
   ]
  },
  {
   "cell_type": "code",
   "execution_count": 6,
   "metadata": {},
   "outputs": [
    {
     "name": "stdout",
     "output_type": "stream",
     "text": [
      "6930\n"
     ]
    }
   ],
   "source": [
    "!xsv count nyweather_jul1_12-jan1_14.csv"
   ]
  },
  {
   "cell_type": "markdown",
   "metadata": {},
   "source": [
    "What columns are currently in the dataset? What does the data in them look like?"
   ]
  },
  {
   "cell_type": "code",
   "execution_count": 7,
   "metadata": {},
   "outputs": [
    {
     "name": "stdout",
     "output_type": "stream",
     "text": [
      "  1: STATION\n",
      "  2: STATION_NAME\n",
      "  3: DATE\n",
      "  4: HPCP\n"
     ]
    }
   ],
   "source": [
    "!csvstat -n nyweather_jul1_12-jan1_14.csv"
   ]
  },
  {
   "cell_type": "code",
   "execution_count": 8,
   "metadata": {},
   "outputs": [
    {
     "name": "stdout",
     "output_type": "stream",
     "text": [
      "| STATION     | STATION_NAME               | DATE           | HPCP |\n",
      "| ----------- | -------------------------- | -------------- | ---- |\n",
      "| COOP:305801 | NY CITY CENTRAL PARK NY US | 20120701 01:00 | 0.00 |\n",
      "| COOP:305801 | NY CITY CENTRAL PARK NY US | 20120704 05:00 | 0.00 |\n",
      "| COOP:305801 | NY CITY CENTRAL PARK NY US | 20120704 06:00 | 0.04 |\n",
      "| COOP:305801 | NY CITY CENTRAL PARK NY US | 20120704 07:00 | 0.02 |\n"
     ]
    }
   ],
   "source": [
    "!head -n 5 nyweather_jul1_12-jan1_14.csv | csvlook"
   ]
  },
  {
   "cell_type": "markdown",
   "metadata": {},
   "source": [
    "There are readings from different stations in the New York area. Let's see what possible stations there are."
   ]
  },
  {
   "cell_type": "code",
   "execution_count": 9,
   "metadata": {},
   "outputs": [
    {
     "name": "stdout",
     "output_type": "stream",
     "text": [
      "  1. \"STATION\"\n",
      "\n",
      "\tType of data:          Text\n",
      "\tContains null values:  False\n",
      "\tUnique values:         9\n",
      "\tLongest value:         11 characters\n",
      "\tMost common values:    COOP:286026 (1918x)\n",
      "\t                       COOP:305803 (1802x)\n",
      "\t                       COOP:305811 (1766x)\n",
      "\t                       COOP:305801 (1299x)\n",
      "\t                       COOP:282768 (37x)\n",
      "\n",
      "  2. \"STATION_NAME\"\n",
      "\n",
      "\tType of data:          Text\n",
      "\tContains null values:  False\n",
      "\tUnique values:         9\n",
      "\tLongest value:         42 characters\n",
      "\tMost common values:    NEWARK LIBERTY INTERNATIONAL AIRPORT NJ US (1918x)\n",
      "\t                       JFK INTERNATIONAL AIRPORT NY US (1802x)\n",
      "\t                       LA GUARDIA AIRPORT NY US (1766x)\n",
      "\t                       NY CITY CENTRAL PARK NY US (1299x)\n",
      "\t                       ESSEX FELLS SERV BUILDING NJ US (37x)\n",
      "\n",
      "  3. \"DATE\"\n",
      "\n",
      "\tType of data:          Text\n",
      "\tContains null values:  False\n",
      "\tUnique values:         2468\n",
      "\tLongest value:         14 characters\n",
      "\tMost common values:    20120701 01:00 (9x)\n",
      "\t                       20121101 01:00 (8x)\n",
      "\t                       20121201 01:00 (8x)\n",
      "\t                       20130101 01:00 (8x)\n",
      "\t                       20130201 01:00 (8x)\n",
      "\n",
      "  4. \"HPCP\"\n",
      "\n",
      "\tType of data:          Number\n",
      "\tContains null values:  False\n",
      "\tUnique values:         79\n",
      "\tSmallest value:        0\n",
      "\tLargest value:         999.99\n",
      "\tSum:                   145,237.79\n",
      "\tMean:                  20.958\n",
      "\tMedian:                0.01\n",
      "\tStDev:                 143.132\n",
      "\tMost common values:    0 (3273x)\n",
      "\t                       0.01 (931x)\n",
      "\t                       0.02 (590x)\n",
      "\t                       0.03 (368x)\n",
      "\t                       0.04 (253x)\n",
      "\n",
      "Row count: 6930\n"
     ]
    }
   ],
   "source": [
    "!csvstat nyweather_jul1_12-jan1_14.csv"
   ]
  },
  {
   "cell_type": "markdown",
   "metadata": {},
   "source": [
    "It seems like weather readings from Newark Aiport and JFK Airport are the most common. While La Guardia and Central Park are closer to the center of New York and more representative of the weather in the city, we decided to use only readings from JFK since we wanted the highest number of readings. We decided not to use Newark despite it having the most readings because it's too far away from the city of New York. Using the HPCP (or hourly precipitation) data in inches, we can study the following question:\n",
    "* What impact does precipitation have on collisions, injuries, and deaths?\n",
    "\n",
    "A concern we have for the data is that there are many hours that we do not have precipitation data for. We cannot assume that those hours did not have any precipitation and impute values.\n",
    "\n",
    "***\n",
    "\n",
    "## Part 2 - Wrangling\n",
    "\n",
    "Because the free version of Trifacta Wrangler only accepts datasets no larger than 100MB, we need to split our dataset into 4 (with up to 350K non-header rows in each) for cleaning. For the first fourth of our data, we simply need to get the first 350k rows."
   ]
  },
  {
   "cell_type": "code",
   "execution_count": 10,
   "metadata": {},
   "outputs": [],
   "source": [
    "!head -n 350000 rows.csv > nyc_crash1.csv"
   ]
  },
  {
   "cell_type": "markdown",
   "metadata": {},
   "source": [
    "For the 2nd dataset, we need to first add the header row into the file. Then we can append the 2nd set of 350K rows to the file."
   ]
  },
  {
   "cell_type": "code",
   "execution_count": 11,
   "metadata": {},
   "outputs": [],
   "source": [
    "!head -n 1 rows.csv > nyc_crash2.csv"
   ]
  },
  {
   "cell_type": "code",
   "execution_count": 12,
   "metadata": {},
   "outputs": [],
   "source": [
    "!head -n 700000 rows.csv | tail -n 350000 >> nyc_crash2.csv"
   ]
  },
  {
   "cell_type": "markdown",
   "metadata": {},
   "source": [
    "Again for the 3rd dataset, we need to first add the header row into the file. Then we can append the 3nd set of 350K rows."
   ]
  },
  {
   "cell_type": "code",
   "execution_count": 13,
   "metadata": {},
   "outputs": [],
   "source": [
    "!head -n 1 rows.csv > nyc_crash3.csv"
   ]
  },
  {
   "cell_type": "code",
   "execution_count": 14,
   "metadata": {},
   "outputs": [],
   "source": [
    "!head -n 1050000 rows.csv | tail -n 350000 >> nyc_crash3.csv"
   ]
  },
  {
   "cell_type": "markdown",
   "metadata": {},
   "source": [
    "Again for the 4th dataset, we need to first add the header row into the file. Then we can append the 4th set of rows which include anything **but** the first 1.05M (or 3 * 350K) rows."
   ]
  },
  {
   "cell_type": "code",
   "execution_count": 15,
   "metadata": {},
   "outputs": [],
   "source": [
    "!head -n 1 rows.csv > nyc_crash4.csv"
   ]
  },
  {
   "cell_type": "code",
   "execution_count": 16,
   "metadata": {},
   "outputs": [],
   "source": [
    "!tail -n +1050001 rows.csv >> nyc_crash4.csv"
   ]
  },
  {
   "cell_type": "markdown",
   "metadata": {},
   "source": [
    "Let's find out how many rows are in each file. The sum of all 4 should equal our original count."
   ]
  },
  {
   "cell_type": "code",
   "execution_count": 17,
   "metadata": {},
   "outputs": [
    {
     "name": "stdout",
     "output_type": "stream",
     "text": [
      "349999\n"
     ]
    }
   ],
   "source": [
    "!xsv count nyc_crash1.csv"
   ]
  },
  {
   "cell_type": "code",
   "execution_count": 18,
   "metadata": {},
   "outputs": [
    {
     "name": "stdout",
     "output_type": "stream",
     "text": [
      "350000\n"
     ]
    }
   ],
   "source": [
    "!xsv count nyc_crash2.csv"
   ]
  },
  {
   "cell_type": "code",
   "execution_count": 19,
   "metadata": {},
   "outputs": [
    {
     "name": "stdout",
     "output_type": "stream",
     "text": [
      "349999\n"
     ]
    }
   ],
   "source": [
    "!xsv count nyc_crash3.csv"
   ]
  },
  {
   "cell_type": "code",
   "execution_count": 20,
   "metadata": {},
   "outputs": [
    {
     "name": "stdout",
     "output_type": "stream",
     "text": [
      "336004\n"
     ]
    }
   ],
   "source": [
    "!xsv count nyc_crash4.csv"
   ]
  },
  {
   "cell_type": "markdown",
   "metadata": {},
   "source": [
    "When we downloaded the data on 11/28/2018 and ran this step, the total of all 4 line counts was 1,385,920 lines. Note that this number will be different as the NYPD updates the dataset regularly. In the end, it should match the original downloaded dataset.\n",
    "\n",
    "We then uploaded our datasets into Trifacta Wrangler where we performed the following cleaning steps:\n",
    "1. Split the Time column into separate Hour and Minute columns.\n",
    "2. Create a new calculated column for what weekday does the Date column contain (1 represents Monday).\n",
    "3. Split the Date column into separate Month, Day, and Year columns.\n",
    "4. In Trifacta Wrangler, we saw that the sum of the number of pedestrians, cyclists, and motorists injured and killed doesn't match the number of persons injured and killed. Thus we deleted the original number of persons injured and killed columns and recalculated them.\n",
    "5. We created a Time of Day column based on the Hour column that is 'Morning' if the accident time is between 6am-11:59am, 'Afternoon' if the accident time is between 12pm-5:59pm, 'Evening' if the accident time is between 6pm-9:59pm, and 'Night' if the accident time is before 6am or after 10pm.\n",
    "6. We removed all the fact and dimension columns we are not using in our analysis. These columns are zip code, latitude, longitude, location, on street, cross street, off street, # pedestrians injured, # pedestrians killed, # cyclists injured, # cyclists killed, # motorists injured, and # motorists killed.\n",
    "\n",
    "The Trifacta recipe that describes all the wrangling steps is shown below:\n",
    "```\n",
    "splitpatterns col: TIME type: on on: ':'\n",
    "derive type: single value: WEEKDAY(DATE) as: 'Weekday'\n",
    "splitpatterns col: DATE type: on on: '\\/' limit: 2\n",
    "rename type: manual mapping: [DATE1,'Month']\n",
    "rename type: manual mapping: [DATE2,'Day']\n",
    "rename type: manual mapping: [DATE3,'Year']\n",
    "rename type: manual mapping: [TIME1,'Hour']\n",
    "rename type: manual mapping: [TIME2,'Minute']\n",
    "derive type: multiple value: {NUMBER OF PEDESTRIANS KILLED} + ({NUMBER OF CYCLIST KILLED} + {NUMBER OF MOTORIST KILLED}) as: 'PERSONS KILLED RECALC'\n",
    "derive type: multiple value: {NUMBER OF PEDESTRIANS INJURED} + ({NUMBER OF CYCLIST INJURED} + {NUMBER OF MOTORIST INJURED}) as: 'PERSONS INJURED RECALC'\n",
    "drop col: {NUMBER OF PERSONS INJURED} action: Drop\n",
    "drop col: {NUMBER OF PERSONS KILLED} action: Drop\n",
    "move col: {PERSONS INJURED RECALC} position: after after: {NUMBER OF MOTORIST KILLED}\n",
    "derive type: single value: CASE([(Hour >= 6) && (Hour <= 11), 'Morning', (Hour >= 12) && (Hour <= 17), 'Afternoon', (Hour >= 18) && (Hour <= 21), 'Evening', 'Night']) as: 'Time of Day'\n",
    "move col: {Time of Day} position: after after: Minute\n",
    "drop col: {ZIP CODE}, LATITUDE, LONGITUDE, LOCATION, {ON STREET NAME}, {CROSS STREET NAME}, {OFF STREET NAME}, {NUMBER OF PEDESTRIANS INJURED}, {NUMBER OF PEDESTRIANS KILLED}, {NUMBER OF CYCLIST INJURED}, {NUMBER OF CYCLIST KILLED}, {NUMBER OF MOTORIST INJURED}, {NUMBER OF MOTORIST KILLED} action: Drop\n",
    "```\n",
    "\n",
    "After running each of our 4 split datasets through this recipe, we have 4 cleaned datasets. We download them from S3 in the next 4 steps below."
   ]
  },
  {
   "cell_type": "code",
   "execution_count": 21,
   "metadata": {},
   "outputs": [
    {
     "name": "stdout",
     "output_type": "stream",
     "text": [
      "--2018-12-10 15:09:26--  https://s3.amazonaws.com/gwu-workshop-patel-2018/data-management-project-4/clean_nyc_crash1.csv\n",
      "Resolving s3.amazonaws.com (s3.amazonaws.com)... 52.216.110.77\n",
      "Connecting to s3.amazonaws.com (s3.amazonaws.com)|52.216.110.77|:443... connected.\n",
      "HTTP request sent, awaiting response... 200 OK\n",
      "Length: 57115599 (54M) [text/csv]\n",
      "Saving to: ‘clean_nyc_crash1.csv’\n",
      "\n",
      "clean_nyc_crash1.cs 100%[===================>]  54.47M  57.1MB/s    in 1.0s    \n",
      "\n",
      "2018-12-10 15:09:27 (57.1 MB/s) - ‘clean_nyc_crash1.csv’ saved [57115599/57115599]\n",
      "\n"
     ]
    }
   ],
   "source": [
    "!wget \"https://s3.amazonaws.com/gwu-workshop-patel-2018/data-management-project-4/clean_nyc_crash1.csv\""
   ]
  },
  {
   "cell_type": "code",
   "execution_count": 22,
   "metadata": {},
   "outputs": [
    {
     "name": "stdout",
     "output_type": "stream",
     "text": [
      "--2018-12-10 15:09:27--  https://s3.amazonaws.com/gwu-workshop-patel-2018/data-management-project-4/clean_nyc_crash2.csv\n",
      "Resolving s3.amazonaws.com (s3.amazonaws.com)... 52.216.110.77\n",
      "Connecting to s3.amazonaws.com (s3.amazonaws.com)|52.216.110.77|:443... connected.\n",
      "HTTP request sent, awaiting response... 200 OK\n",
      "Length: 57737045 (55M) [text/csv]\n",
      "Saving to: ‘clean_nyc_crash2.csv’\n",
      "\n",
      "clean_nyc_crash2.cs 100%[===================>]  55.06M  44.5MB/s    in 1.2s    \n",
      "\n",
      "2018-12-10 15:09:28 (44.5 MB/s) - ‘clean_nyc_crash2.csv’ saved [57737045/57737045]\n",
      "\n"
     ]
    }
   ],
   "source": [
    "!wget \"https://s3.amazonaws.com/gwu-workshop-patel-2018/data-management-project-4/clean_nyc_crash2.csv\""
   ]
  },
  {
   "cell_type": "code",
   "execution_count": 23,
   "metadata": {},
   "outputs": [
    {
     "name": "stdout",
     "output_type": "stream",
     "text": [
      "--2018-12-10 15:09:28--  https://s3.amazonaws.com/gwu-workshop-patel-2018/data-management-project-4/clean_nyc_crash3.csv\n",
      "Resolving s3.amazonaws.com (s3.amazonaws.com)... 52.216.110.77\n",
      "Connecting to s3.amazonaws.com (s3.amazonaws.com)|52.216.110.77|:443... connected.\n",
      "HTTP request sent, awaiting response... 200 OK\n",
      "Length: 56498141 (54M) [text/csv]\n",
      "Saving to: ‘clean_nyc_crash3.csv’\n",
      "\n",
      "clean_nyc_crash3.cs 100%[===================>]  53.88M  60.7MB/s    in 0.9s    \n",
      "\n",
      "2018-12-10 15:09:29 (60.7 MB/s) - ‘clean_nyc_crash3.csv’ saved [56498141/56498141]\n",
      "\n"
     ]
    }
   ],
   "source": [
    "!wget \"https://s3.amazonaws.com/gwu-workshop-patel-2018/data-management-project-4/clean_nyc_crash3.csv\""
   ]
  },
  {
   "cell_type": "code",
   "execution_count": 24,
   "metadata": {},
   "outputs": [
    {
     "name": "stdout",
     "output_type": "stream",
     "text": [
      "--2018-12-10 15:09:29--  https://s3.amazonaws.com/gwu-workshop-patel-2018/data-management-project-4/clean_nyc_crash4.csv\n",
      "Resolving s3.amazonaws.com (s3.amazonaws.com)... 52.216.110.77\n",
      "Connecting to s3.amazonaws.com (s3.amazonaws.com)|52.216.110.77|:443... connected.\n",
      "HTTP request sent, awaiting response... 200 OK\n",
      "Length: 53273504 (51M) [text/csv]\n",
      "Saving to: ‘clean_nyc_crash4.csv’\n",
      "\n",
      "clean_nyc_crash4.cs 100%[===================>]  50.80M  55.1MB/s    in 0.9s    \n",
      "\n",
      "2018-12-10 15:09:30 (55.1 MB/s) - ‘clean_nyc_crash4.csv’ saved [53273504/53273504]\n",
      "\n"
     ]
    }
   ],
   "source": [
    "!wget \"https://s3.amazonaws.com/gwu-workshop-patel-2018/data-management-project-4/clean_nyc_crash4.csv\""
   ]
  },
  {
   "cell_type": "markdown",
   "metadata": {},
   "source": [
    "We merge all 4 split datasets into one file `all_crashes.csv`, making sure not to include the header row for the 2nd-4th files."
   ]
  },
  {
   "cell_type": "code",
   "execution_count": 25,
   "metadata": {},
   "outputs": [],
   "source": [
    "!cat clean_nyc_crash1.csv > all_crashes.csv"
   ]
  },
  {
   "cell_type": "code",
   "execution_count": 26,
   "metadata": {},
   "outputs": [],
   "source": [
    "!tail -n +2 clean_nyc_crash2.csv >> all_crashes.csv"
   ]
  },
  {
   "cell_type": "code",
   "execution_count": 27,
   "metadata": {},
   "outputs": [],
   "source": [
    "!tail -n +2 clean_nyc_crash3.csv >> all_crashes.csv"
   ]
  },
  {
   "cell_type": "code",
   "execution_count": 28,
   "metadata": {},
   "outputs": [],
   "source": [
    "!tail -n +2 clean_nyc_crash4.csv >> all_crashes.csv"
   ]
  },
  {
   "cell_type": "markdown",
   "metadata": {},
   "source": [
    "Because we didn't delete any rows as part of our cleaning/wrangling, verify that the row count is the same as our original, unclean file. When we downloaded the data on 11/28/2018 and ran this cleaning step, there were 1,385,920 lines. Because we are using Trifacta for data cleaning, we are unable to create an automated cleaning flow within this notebook that handles the addition of new entries, so from this step on, our data will have 1,385,920 lines regardless of changes to the original datset."
   ]
  },
  {
   "cell_type": "code",
   "execution_count": 29,
   "metadata": {},
   "outputs": [
    {
     "name": "stdout",
     "output_type": "stream",
     "text": [
      "1385920\n"
     ]
    }
   ],
   "source": [
    "!xsv count all_crashes.csv"
   ]
  },
  {
   "cell_type": "markdown",
   "metadata": {},
   "source": [
    "After verifying that we have all our original rows, let's verify that all the columns we wanted in our cleaned dataset are there."
   ]
  },
  {
   "cell_type": "code",
   "execution_count": 30,
   "metadata": {},
   "outputs": [
    {
     "name": "stdout",
     "output_type": "stream",
     "text": [
      "  1: Month\n",
      "  2: Day\n",
      "  3: Year\n",
      "  4: Weekday\n",
      "  5: Hour\n",
      "  6: Minute\n",
      "  7: Time of Day\n",
      "  8: BOROUGH\n",
      "  9: PERSONS INJURED RECALC\n",
      " 10: PERSONS KILLED RECALC\n",
      " 11: CONTRIBUTING FACTOR VEHICLE 1\n",
      " 12: CONTRIBUTING FACTOR VEHICLE 2\n",
      " 13: CONTRIBUTING FACTOR VEHICLE 3\n",
      " 14: CONTRIBUTING FACTOR VEHICLE 4\n",
      " 15: CONTRIBUTING FACTOR VEHICLE 5\n",
      " 16: UNIQUE KEY\n",
      " 17: VEHICLE TYPE CODE 1\n",
      " 18: VEHICLE TYPE CODE 2\n",
      " 19: VEHICLE TYPE CODE 3\n",
      " 20: VEHICLE TYPE CODE 4\n",
      " 21: VEHICLE TYPE CODE 5\n"
     ]
    }
   ],
   "source": [
    "!csvstat -n all_crashes.csv"
   ]
  },
  {
   "cell_type": "markdown",
   "metadata": {},
   "source": [
    "Now we can begin our ETL process by setting up PostgreSQL."
   ]
  },
  {
   "cell_type": "code",
   "execution_count": 31,
   "metadata": {},
   "outputs": [],
   "source": [
    "%load_ext sql"
   ]
  },
  {
   "cell_type": "code",
   "execution_count": 32,
   "metadata": {},
   "outputs": [],
   "source": [
    "!dropdb -U student project4"
   ]
  },
  {
   "cell_type": "code",
   "execution_count": 33,
   "metadata": {},
   "outputs": [],
   "source": [
    "!createdb -U student project4"
   ]
  },
  {
   "cell_type": "code",
   "execution_count": 34,
   "metadata": {},
   "outputs": [
    {
     "data": {
      "text/plain": [
       "'Connected: student@project4'"
      ]
     },
     "execution_count": 34,
     "metadata": {},
     "output_type": "execute_result"
    }
   ],
   "source": [
    "%sql postgresql://student@/project4"
   ]
  },
  {
   "cell_type": "markdown",
   "metadata": {},
   "source": [
    "First create the table to accomodate our cleaned CSV file with corresponding columns. After setting up dimension tables, this `collisions` table will become our fact table."
   ]
  },
  {
   "cell_type": "code",
   "execution_count": 35,
   "metadata": {},
   "outputs": [
    {
     "name": "stdout",
     "output_type": "stream",
     "text": [
      " * postgresql://student@/project4\n",
      "Done.\n",
      "Done.\n"
     ]
    },
    {
     "data": {
      "text/plain": [
       "[]"
      ]
     },
     "execution_count": 35,
     "metadata": {},
     "output_type": "execute_result"
    }
   ],
   "source": [
    "%%sql\n",
    "DROP TABLE IF EXISTS collisions;\n",
    "\n",
    "CREATE TABLE collisions (\n",
    "    month INTEGER NOT NULL,\n",
    "    day INTEGER NOT NULL,\n",
    "    year INTEGER NOT NULL,\n",
    "    weekday INTEGER NOT NULL,\n",
    "    hour INTEGER NOT NULL,\n",
    "    minute INTEGER NOT NULL,\n",
    "    time_of_day VARCHAR(9),\n",
    "    borough VARCHAR(13),\n",
    "    persons_inj INTEGER NOT NULL,\n",
    "    persons_kil INTEGER NOT NULL,\n",
    "    contrib_factor_vehicle_1 VARCHAR(100),\n",
    "    contrib_factor_vehicle_2 VARCHAR(100),\n",
    "    contrib_factor_vehicle_3 VARCHAR(100),\n",
    "    contrib_factor_vehicle_4 VARCHAR(100),\n",
    "    contrib_factor_vehicle_5 VARCHAR(100),\n",
    "    key INTEGER NOT NULL,\n",
    "    vehicle_type_code_1 VARCHAR(100),\n",
    "    vehicle_type_code_2 VARCHAR(100),\n",
    "    vehicle_type_code_3 VARCHAR(100),\n",
    "    vehicle_type_code_4 VARCHAR(100),\n",
    "    vehicle_type_code_5 VARCHAR(100),\n",
    "    PRIMARY KEY(key)\n",
    ");"
   ]
  },
  {
   "cell_type": "markdown",
   "metadata": {},
   "source": [
    "Load data into the table from our CSV file.\n",
    "\n",
    "**Note: you will likely have to change the file path with the location of the CSV file based on your directory setup!**"
   ]
  },
  {
   "cell_type": "code",
   "execution_count": 36,
   "metadata": {},
   "outputs": [
    {
     "name": "stdout",
     "output_type": "stream",
     "text": [
      " * postgresql://student@/project4\n",
      "1385920 rows affected.\n"
     ]
    },
    {
     "data": {
      "text/plain": [
       "[]"
      ]
     },
     "execution_count": 36,
     "metadata": {},
     "output_type": "execute_result"
    }
   ],
   "source": [
    "%%sql\n",
    "COPY collisions FROM '/home/ubuntu/project-4/all_crashes.csv'\n",
    "CSV\n",
    "HEADER;"
   ]
  },
  {
   "cell_type": "markdown",
   "metadata": {},
   "source": [
    "Let's peek at the beginning of the table to see if the loading step had any problems."
   ]
  },
  {
   "cell_type": "code",
   "execution_count": 37,
   "metadata": {},
   "outputs": [
    {
     "name": "stdout",
     "output_type": "stream",
     "text": [
      " * postgresql://student@/project4\n",
      "5 rows affected.\n"
     ]
    },
    {
     "data": {
      "text/html": [
       "<table>\n",
       "    <tr>\n",
       "        <th>month</th>\n",
       "        <th>day</th>\n",
       "        <th>year</th>\n",
       "        <th>weekday</th>\n",
       "        <th>hour</th>\n",
       "        <th>minute</th>\n",
       "        <th>time_of_day</th>\n",
       "        <th>borough</th>\n",
       "        <th>persons_inj</th>\n",
       "        <th>persons_kil</th>\n",
       "        <th>contrib_factor_vehicle_1</th>\n",
       "        <th>contrib_factor_vehicle_2</th>\n",
       "        <th>contrib_factor_vehicle_3</th>\n",
       "        <th>contrib_factor_vehicle_4</th>\n",
       "        <th>contrib_factor_vehicle_5</th>\n",
       "        <th>key</th>\n",
       "        <th>vehicle_type_code_1</th>\n",
       "        <th>vehicle_type_code_2</th>\n",
       "        <th>vehicle_type_code_3</th>\n",
       "        <th>vehicle_type_code_4</th>\n",
       "        <th>vehicle_type_code_5</th>\n",
       "    </tr>\n",
       "    <tr>\n",
       "        <td>11</td>\n",
       "        <td>16</td>\n",
       "        <td>2018</td>\n",
       "        <td>5</td>\n",
       "        <td>0</td>\n",
       "        <td>10</td>\n",
       "        <td>Night</td>\n",
       "        <td>MANHATTAN</td>\n",
       "        <td>0</td>\n",
       "        <td>0</td>\n",
       "        <td>Unspecified</td>\n",
       "        <td>Unspecified</td>\n",
       "        <td></td>\n",
       "        <td></td>\n",
       "        <td></td>\n",
       "        <td>4021880</td>\n",
       "        <td>Station Wagon/Sport Utility Vehicle</td>\n",
       "        <td>Station Wagon/Sport Utility Vehicle</td>\n",
       "        <td></td>\n",
       "        <td></td>\n",
       "        <td></td>\n",
       "    </tr>\n",
       "    <tr>\n",
       "        <td>11</td>\n",
       "        <td>16</td>\n",
       "        <td>2018</td>\n",
       "        <td>5</td>\n",
       "        <td>0</td>\n",
       "        <td>40</td>\n",
       "        <td>Night</td>\n",
       "        <td></td>\n",
       "        <td>0</td>\n",
       "        <td>0</td>\n",
       "        <td>Pavement Slippery</td>\n",
       "        <td>Pavement Slippery</td>\n",
       "        <td></td>\n",
       "        <td></td>\n",
       "        <td></td>\n",
       "        <td>4021727</td>\n",
       "        <td>Sedan</td>\n",
       "        <td>Pick-up Truck</td>\n",
       "        <td></td>\n",
       "        <td></td>\n",
       "        <td></td>\n",
       "    </tr>\n",
       "    <tr>\n",
       "        <td>11</td>\n",
       "        <td>16</td>\n",
       "        <td>2018</td>\n",
       "        <td>5</td>\n",
       "        <td>0</td>\n",
       "        <td>45</td>\n",
       "        <td>Night</td>\n",
       "        <td>BROOKLYN</td>\n",
       "        <td>4</td>\n",
       "        <td>0</td>\n",
       "        <td>Driver Inattention/Distraction</td>\n",
       "        <td>Driver Inattention/Distraction</td>\n",
       "        <td></td>\n",
       "        <td></td>\n",
       "        <td></td>\n",
       "        <td>4021791</td>\n",
       "        <td>Taxi</td>\n",
       "        <td>Taxi</td>\n",
       "        <td></td>\n",
       "        <td></td>\n",
       "        <td></td>\n",
       "    </tr>\n",
       "    <tr>\n",
       "        <td>11</td>\n",
       "        <td>16</td>\n",
       "        <td>2018</td>\n",
       "        <td>5</td>\n",
       "        <td>1</td>\n",
       "        <td>0</td>\n",
       "        <td>Night</td>\n",
       "        <td>BRONX</td>\n",
       "        <td>0</td>\n",
       "        <td>0</td>\n",
       "        <td>Pavement Slippery</td>\n",
       "        <td>Unspecified</td>\n",
       "        <td></td>\n",
       "        <td></td>\n",
       "        <td></td>\n",
       "        <td>4021878</td>\n",
       "        <td>Garbage or Refuse</td>\n",
       "        <td>Station Wagon/Sport Utility Vehicle</td>\n",
       "        <td></td>\n",
       "        <td></td>\n",
       "        <td></td>\n",
       "    </tr>\n",
       "    <tr>\n",
       "        <td>11</td>\n",
       "        <td>16</td>\n",
       "        <td>2018</td>\n",
       "        <td>5</td>\n",
       "        <td>1</td>\n",
       "        <td>0</td>\n",
       "        <td>Night</td>\n",
       "        <td>BROOKLYN</td>\n",
       "        <td>0</td>\n",
       "        <td>0</td>\n",
       "        <td>Pavement Slippery</td>\n",
       "        <td>Unspecified</td>\n",
       "        <td></td>\n",
       "        <td></td>\n",
       "        <td></td>\n",
       "        <td>4021848</td>\n",
       "        <td>Station Wagon/Sport Utility Vehicle</td>\n",
       "        <td>Station Wagon/Sport Utility Vehicle</td>\n",
       "        <td></td>\n",
       "        <td></td>\n",
       "        <td></td>\n",
       "    </tr>\n",
       "</table>"
      ],
      "text/plain": [
       "[(11, 16, 2018, 5, 0, 10, 'Night', 'MANHATTAN', 0, 0, 'Unspecified', 'Unspecified', '', '', '', 4021880, 'Station Wagon/Sport Utility Vehicle', 'Station Wagon/Sport Utility Vehicle', '', '', ''),\n",
       " (11, 16, 2018, 5, 0, 40, 'Night', '', 0, 0, 'Pavement Slippery', 'Pavement Slippery', '', '', '', 4021727, 'Sedan', 'Pick-up Truck', '', '', ''),\n",
       " (11, 16, 2018, 5, 0, 45, 'Night', 'BROOKLYN', 4, 0, 'Driver Inattention/Distraction', 'Driver Inattention/Distraction', '', '', '', 4021791, 'Taxi', 'Taxi', '', '', ''),\n",
       " (11, 16, 2018, 5, 1, 0, 'Night', 'BRONX', 0, 0, 'Pavement Slippery', 'Unspecified', '', '', '', 4021878, 'Garbage or Refuse', 'Station Wagon/Sport Utility Vehicle', '', '', ''),\n",
       " (11, 16, 2018, 5, 1, 0, 'Night', 'BROOKLYN', 0, 0, 'Pavement Slippery', 'Unspecified', '', '', '', 4021848, 'Station Wagon/Sport Utility Vehicle', 'Station Wagon/Sport Utility Vehicle', '', '', '')]"
      ]
     },
     "execution_count": 37,
     "metadata": {},
     "output_type": "execute_result"
    }
   ],
   "source": [
    "%%sql\n",
    "SELECT * FROM collisions\n",
    "LIMIT 5;"
   ]
  },
  {
   "cell_type": "markdown",
   "metadata": {},
   "source": [
    "Now that we have our to-be fact table `collisions` setup, we need to separate our dimensions and conform all of them to a schema we designed:\n",
    "![](https://drive.google.com/uc?id=17o7ZWE1ROU5cAsgeDk2fxNLHDSWYWb5s)\n",
    "\n",
    "Let's begin creating our dimension tables, starting with the collision location context descriptors. Because our analysis only uses the borough of the accident, that will be the only column in this table. In other situations, other columns like zip code or lat/long coordinates would exist in this table. Note the `collision_location_key` column that will contain a serial key for each unique borough."
   ]
  },
  {
   "cell_type": "code",
   "execution_count": 38,
   "metadata": {},
   "outputs": [
    {
     "name": "stdout",
     "output_type": "stream",
     "text": [
      " * postgresql://student@/project4\n",
      "Done.\n",
      "Done.\n"
     ]
    },
    {
     "data": {
      "text/plain": [
       "[]"
      ]
     },
     "execution_count": 38,
     "metadata": {},
     "output_type": "execute_result"
    }
   ],
   "source": [
    "%%sql\n",
    "DROP TABLE IF EXISTS collision_location;\n",
    "\n",
    "CREATE TABLE collision_location (\n",
    "    collision_location_key SERIAL PRIMARY KEY,\n",
    "    borough VARCHAR(20)\n",
    ");"
   ]
  },
  {
   "cell_type": "markdown",
   "metadata": {},
   "source": [
    "Insert distinct boroughs from `collisions` into this table."
   ]
  },
  {
   "cell_type": "code",
   "execution_count": 39,
   "metadata": {},
   "outputs": [
    {
     "name": "stdout",
     "output_type": "stream",
     "text": [
      " * postgresql://student@/project4\n",
      "6 rows affected.\n"
     ]
    },
    {
     "data": {
      "text/plain": [
       "[]"
      ]
     },
     "execution_count": 39,
     "metadata": {},
     "output_type": "execute_result"
    }
   ],
   "source": [
    "%%sql\n",
    "INSERT INTO collision_location (borough)\n",
    "SELECT DISTINCT borough\n",
    "FROM collisions;"
   ]
  },
  {
   "cell_type": "markdown",
   "metadata": {},
   "source": [
    "We know that NYC only has 5 boroughs: Manhattan, Brooklyn, Queens, Bronx, and Staten Island. Why were 6 rows affected?"
   ]
  },
  {
   "cell_type": "code",
   "execution_count": 40,
   "metadata": {},
   "outputs": [
    {
     "name": "stdout",
     "output_type": "stream",
     "text": [
      " * postgresql://student@/project4\n",
      "6 rows affected.\n"
     ]
    },
    {
     "data": {
      "text/html": [
       "<table>\n",
       "    <tr>\n",
       "        <th>collision_location_key</th>\n",
       "        <th>borough</th>\n",
       "    </tr>\n",
       "    <tr>\n",
       "        <td>1</td>\n",
       "        <td>MANHATTAN</td>\n",
       "    </tr>\n",
       "    <tr>\n",
       "        <td>2</td>\n",
       "        <td>BROOKLYN</td>\n",
       "    </tr>\n",
       "    <tr>\n",
       "        <td>3</td>\n",
       "        <td>BRONX</td>\n",
       "    </tr>\n",
       "    <tr>\n",
       "        <td>4</td>\n",
       "        <td></td>\n",
       "    </tr>\n",
       "    <tr>\n",
       "        <td>5</td>\n",
       "        <td>QUEENS</td>\n",
       "    </tr>\n",
       "    <tr>\n",
       "        <td>6</td>\n",
       "        <td>STATEN ISLAND</td>\n",
       "    </tr>\n",
       "</table>"
      ],
      "text/plain": [
       "[(1, 'MANHATTAN'),\n",
       " (2, 'BROOKLYN'),\n",
       " (3, 'BRONX'),\n",
       " (4, ''),\n",
       " (5, 'QUEENS'),\n",
       " (6, 'STATEN ISLAND')]"
      ]
     },
     "execution_count": 40,
     "metadata": {},
     "output_type": "execute_result"
    }
   ],
   "source": [
    "%%sql\n",
    "SELECT * FROM collision_location;"
   ]
  },
  {
   "cell_type": "markdown",
   "metadata": {},
   "source": [
    "Some collisions do not have borough information as part of the data. This might be because the accidents happened on the bridges/roads between boroughs (ex. Brooklyn Bridge) or the officer that made the collision report did not enter the borough. This is an important caveat of some of our later location analysis.\n",
    "\n",
    "Next, we add a column for the location foreign key in our fact table `collisions`."
   ]
  },
  {
   "cell_type": "code",
   "execution_count": 41,
   "metadata": {},
   "outputs": [
    {
     "name": "stdout",
     "output_type": "stream",
     "text": [
      " * postgresql://student@/project4\n",
      "Done.\n"
     ]
    },
    {
     "data": {
      "text/plain": [
       "[]"
      ]
     },
     "execution_count": 41,
     "metadata": {},
     "output_type": "execute_result"
    }
   ],
   "source": [
    "%%sql\n",
    "ALTER TABLE collisions\n",
    "ADD COLUMN collision_location_key INTEGER,\n",
    "ADD CONSTRAINT fk_collision_location_key\n",
    "    FOREIGN KEY (collision_location_key)\n",
    "    REFERENCES collision_location (collision_location_key);"
   ]
  },
  {
   "cell_type": "markdown",
   "metadata": {},
   "source": [
    "And we update the initially NULL entries in that column with the corresponding collision location key."
   ]
  },
  {
   "cell_type": "code",
   "execution_count": 42,
   "metadata": {},
   "outputs": [
    {
     "name": "stdout",
     "output_type": "stream",
     "text": [
      " * postgresql://student@/project4\n",
      "1385920 rows affected.\n"
     ]
    },
    {
     "data": {
      "text/plain": [
       "[]"
      ]
     },
     "execution_count": 42,
     "metadata": {},
     "output_type": "execute_result"
    }
   ],
   "source": [
    "%%sql\n",
    "UPDATE collisions\n",
    "SET collision_location_key = collision_location.collision_location_key\n",
    "FROM collision_location\n",
    "WHERE collision_location.borough = collisions.borough;"
   ]
  },
  {
   "cell_type": "markdown",
   "metadata": {},
   "source": [
    "We see that all 1,385,920 (the row size of the cleaned file we downloaded) rows have been affected. Let's make sure all of those rows are not-null."
   ]
  },
  {
   "cell_type": "code",
   "execution_count": 43,
   "metadata": {},
   "outputs": [
    {
     "name": "stdout",
     "output_type": "stream",
     "text": [
      " * postgresql://student@/project4\n",
      "1 rows affected.\n"
     ]
    },
    {
     "data": {
      "text/html": [
       "<table>\n",
       "    <tr>\n",
       "        <th>num_null_collision_location_keys</th>\n",
       "    </tr>\n",
       "    <tr>\n",
       "        <td>0</td>\n",
       "    </tr>\n",
       "</table>"
      ],
      "text/plain": [
       "[(0,)]"
      ]
     },
     "execution_count": 43,
     "metadata": {},
     "output_type": "execute_result"
    }
   ],
   "source": [
    "%%sql\n",
    "SELECT COUNT(*) num_null_collision_location_keys\n",
    "FROM collisions\n",
    "WHERE collision_location_key IS NULL;"
   ]
  },
  {
   "cell_type": "markdown",
   "metadata": {},
   "source": [
    "We have verified that all collision_location_keys in the fact table have values.\n",
    "***\n",
    "We can now repeat the same steps for the dimension table for the collision time descriptors. First create the table with all the columns plus a serial key."
   ]
  },
  {
   "cell_type": "code",
   "execution_count": 44,
   "metadata": {},
   "outputs": [
    {
     "name": "stdout",
     "output_type": "stream",
     "text": [
      " * postgresql://student@/project4\n",
      "Done.\n",
      "Done.\n"
     ]
    },
    {
     "data": {
      "text/plain": [
       "[]"
      ]
     },
     "execution_count": 44,
     "metadata": {},
     "output_type": "execute_result"
    }
   ],
   "source": [
    "%%sql\n",
    "DROP TABLE IF EXISTS time;\n",
    "\n",
    "CREATE TABLE time (\n",
    "    time_key SERIAL PRIMARY KEY,\n",
    "    month INTEGER NOT NULL,\n",
    "    day INTEGER NOT NULL,\n",
    "    year INTEGER NOT NULL,\n",
    "    weekday INTEGER NOT NULL,\n",
    "    hour INTEGER NOT NULL,\n",
    "    minute INTEGER NOT NULL,\n",
    "    time_of_day VARCHAR(9)\n",
    ");"
   ]
  },
  {
   "cell_type": "markdown",
   "metadata": {},
   "source": [
    "Insert distinct combinations of our data columns from `collisions`."
   ]
  },
  {
   "cell_type": "code",
   "execution_count": 45,
   "metadata": {},
   "outputs": [
    {
     "name": "stdout",
     "output_type": "stream",
     "text": [
      " * postgresql://student@/project4\n",
      "656776 rows affected.\n"
     ]
    },
    {
     "data": {
      "text/plain": [
       "[]"
      ]
     },
     "execution_count": 45,
     "metadata": {},
     "output_type": "execute_result"
    }
   ],
   "source": [
    "%%sql\n",
    "INSERT INTO time (month, day, year, weekday, hour, minute, time_of_day)\n",
    "SELECT DISTINCT month, day, year, weekday, hour, minute, time_of_day\n",
    "FROM collisions;"
   ]
  },
  {
   "cell_type": "markdown",
   "metadata": {},
   "source": [
    "Because we are dealing with a lot more rows than locations, let's create an index to speed up the ETL process."
   ]
  },
  {
   "cell_type": "code",
   "execution_count": 46,
   "metadata": {},
   "outputs": [
    {
     "name": "stdout",
     "output_type": "stream",
     "text": [
      " * postgresql://student@/project4\n",
      "Done.\n",
      "Done.\n"
     ]
    },
    {
     "data": {
      "text/plain": [
       "[]"
      ]
     },
     "execution_count": 46,
     "metadata": {},
     "output_type": "execute_result"
    }
   ],
   "source": [
    "%%sql\n",
    "DROP INDEX IF EXISTS idx_time;\n",
    "\n",
    "CREATE INDEX idx_time ON time (month, day, year, weekday, hour, minute, time_of_day);"
   ]
  },
  {
   "cell_type": "markdown",
   "metadata": {},
   "source": [
    "Add a column in `collisions` for our time foreign key."
   ]
  },
  {
   "cell_type": "code",
   "execution_count": 47,
   "metadata": {},
   "outputs": [
    {
     "name": "stdout",
     "output_type": "stream",
     "text": [
      " * postgresql://student@/project4\n",
      "Done.\n"
     ]
    },
    {
     "data": {
      "text/plain": [
       "[]"
      ]
     },
     "execution_count": 47,
     "metadata": {},
     "output_type": "execute_result"
    }
   ],
   "source": [
    "%%sql\n",
    "ALTER TABLE collisions\n",
    "ADD COLUMN time_key INTEGER,\n",
    "ADD CONSTRAINT fk_time_key\n",
    "    FOREIGN KEY (time_key)\n",
    "    REFERENCES time (time_key);"
   ]
  },
  {
   "cell_type": "markdown",
   "metadata": {},
   "source": [
    "Update the initially NULL time key to the corresponding key value in the `time` dimension table"
   ]
  },
  {
   "cell_type": "code",
   "execution_count": 48,
   "metadata": {},
   "outputs": [
    {
     "name": "stdout",
     "output_type": "stream",
     "text": [
      " * postgresql://student@/project4\n",
      "1385920 rows affected.\n"
     ]
    },
    {
     "data": {
      "text/plain": [
       "[]"
      ]
     },
     "execution_count": 48,
     "metadata": {},
     "output_type": "execute_result"
    }
   ],
   "source": [
    "%%sql\n",
    "UPDATE collisions\n",
    "SET time_key = time.time_key\n",
    "FROM time\n",
    "WHERE time.month = collisions.month\n",
    "AND time.day = collisions.day\n",
    "AND time.year = collisions.year\n",
    "AND time.weekday = collisions.weekday\n",
    "AND time.hour = collisions.hour\n",
    "AND time.minute = collisions.minute\n",
    "AND time.time_of_day = collisions.time_of_day;"
   ]
  },
  {
   "cell_type": "markdown",
   "metadata": {},
   "source": [
    "All rows have been affected, but let's verify that none of the key values are still NULL."
   ]
  },
  {
   "cell_type": "code",
   "execution_count": 49,
   "metadata": {},
   "outputs": [
    {
     "name": "stdout",
     "output_type": "stream",
     "text": [
      " * postgresql://student@/project4\n",
      "1 rows affected.\n"
     ]
    },
    {
     "data": {
      "text/html": [
       "<table>\n",
       "    <tr>\n",
       "        <th>num_null_time_keys</th>\n",
       "    </tr>\n",
       "    <tr>\n",
       "        <td>0</td>\n",
       "    </tr>\n",
       "</table>"
      ],
      "text/plain": [
       "[(0,)]"
      ]
     },
     "execution_count": 49,
     "metadata": {},
     "output_type": "execute_result"
    }
   ],
   "source": [
    "%%sql\n",
    "SELECT COUNT(*) num_null_time_keys\n",
    "FROM collisions\n",
    "WHERE time_key IS NULL;"
   ]
  },
  {
   "cell_type": "markdown",
   "metadata": {},
   "source": [
    "Now all time keys in our fact table have values.\n",
    "***\n",
    "Let's repeat the same process as above but for the contributing factors for the collision. First create the table with a serial key."
   ]
  },
  {
   "cell_type": "code",
   "execution_count": 50,
   "metadata": {},
   "outputs": [
    {
     "name": "stdout",
     "output_type": "stream",
     "text": [
      " * postgresql://student@/project4\n",
      "Done.\n",
      "Done.\n"
     ]
    },
    {
     "data": {
      "text/plain": [
       "[]"
      ]
     },
     "execution_count": 50,
     "metadata": {},
     "output_type": "execute_result"
    }
   ],
   "source": [
    "%%sql\n",
    "DROP TABLE IF EXISTS contributing_factors;\n",
    "\n",
    "CREATE TABLE contributing_factors (\n",
    "    factor_key SERIAL PRIMARY KEY,\n",
    "    factor1 VARCHAR(100),\n",
    "    factor2 VARCHAR(100),\n",
    "    factor3 VARCHAR(100),\n",
    "    factor4 VARCHAR(100),\n",
    "    factor5 VARCHAR(100)\n",
    ");"
   ]
  },
  {
   "cell_type": "markdown",
   "metadata": {},
   "source": [
    "Insert distinct combinations of contributing factors from our fact table `collisions`."
   ]
  },
  {
   "cell_type": "code",
   "execution_count": 51,
   "metadata": {},
   "outputs": [
    {
     "name": "stdout",
     "output_type": "stream",
     "text": [
      " * postgresql://student@/project4\n",
      "4520 rows affected.\n"
     ]
    },
    {
     "data": {
      "text/plain": [
       "[]"
      ]
     },
     "execution_count": 51,
     "metadata": {},
     "output_type": "execute_result"
    }
   ],
   "source": [
    "%%sql\n",
    "INSERT INTO contributing_factors (factor1, factor2, factor3, factor4, factor5)\n",
    "SELECT DISTINCT contrib_factor_vehicle_1, contrib_factor_vehicle_2, contrib_factor_vehicle_3, contrib_factor_vehicle_4, contrib_factor_vehicle_5\n",
    "FROM collisions;"
   ]
  },
  {
   "cell_type": "markdown",
   "metadata": {},
   "source": [
    "Create an index to speed up the remaining ETL steps."
   ]
  },
  {
   "cell_type": "code",
   "execution_count": 52,
   "metadata": {},
   "outputs": [
    {
     "name": "stdout",
     "output_type": "stream",
     "text": [
      " * postgresql://student@/project4\n",
      "Done.\n",
      "Done.\n"
     ]
    },
    {
     "data": {
      "text/plain": [
       "[]"
      ]
     },
     "execution_count": 52,
     "metadata": {},
     "output_type": "execute_result"
    }
   ],
   "source": [
    "%%sql\n",
    "DROP INDEX IF EXISTS idx_factors;\n",
    "\n",
    "CREATE INDEX idx_factors ON contributing_factors (factor1, factor2, factor3, factor4, factor5);"
   ]
  },
  {
   "cell_type": "markdown",
   "metadata": {},
   "source": [
    "Add a column into the fact table `collisions` to house the contributing factor foreign key."
   ]
  },
  {
   "cell_type": "code",
   "execution_count": 53,
   "metadata": {},
   "outputs": [
    {
     "name": "stdout",
     "output_type": "stream",
     "text": [
      " * postgresql://student@/project4\n",
      "Done.\n"
     ]
    },
    {
     "data": {
      "text/plain": [
       "[]"
      ]
     },
     "execution_count": 53,
     "metadata": {},
     "output_type": "execute_result"
    }
   ],
   "source": [
    "%%sql\n",
    "ALTER TABLE collisions\n",
    "ADD COLUMN factor_key INTEGER,\n",
    "ADD CONSTRAINT fk_factor_key\n",
    "    FOREIGN KEY (factor_key)\n",
    "    REFERENCES contributing_factors (factor_key);"
   ]
  },
  {
   "cell_type": "markdown",
   "metadata": {},
   "source": [
    "Update the initially NULL values to the corresponding key in the contributing factor dimension table."
   ]
  },
  {
   "cell_type": "code",
   "execution_count": 54,
   "metadata": {},
   "outputs": [
    {
     "name": "stdout",
     "output_type": "stream",
     "text": [
      " * postgresql://student@/project4\n",
      "1385920 rows affected.\n"
     ]
    },
    {
     "data": {
      "text/plain": [
       "[]"
      ]
     },
     "execution_count": 54,
     "metadata": {},
     "output_type": "execute_result"
    }
   ],
   "source": [
    "%%sql\n",
    "UPDATE collisions\n",
    "SET factor_key = contributing_factors.factor_key\n",
    "FROM contributing_factors\n",
    "WHERE contributing_factors.factor1 = collisions.contrib_factor_vehicle_1\n",
    "AND contributing_factors.factor2 = collisions.contrib_factor_vehicle_2\n",
    "AND contributing_factors.factor3 = collisions.contrib_factor_vehicle_3\n",
    "AND contributing_factors.factor4 = collisions.contrib_factor_vehicle_4\n",
    "AND contributing_factors.factor5 = collisions.contrib_factor_vehicle_5;"
   ]
  },
  {
   "cell_type": "markdown",
   "metadata": {},
   "source": [
    "All rows were affected, but let's verify that no contributing factor keys in the fact table are NULL."
   ]
  },
  {
   "cell_type": "code",
   "execution_count": 55,
   "metadata": {},
   "outputs": [
    {
     "name": "stdout",
     "output_type": "stream",
     "text": [
      " * postgresql://student@/project4\n",
      "1 rows affected.\n"
     ]
    },
    {
     "data": {
      "text/html": [
       "<table>\n",
       "    <tr>\n",
       "        <th>num_null_factor_keys</th>\n",
       "    </tr>\n",
       "    <tr>\n",
       "        <td>0</td>\n",
       "    </tr>\n",
       "</table>"
      ],
      "text/plain": [
       "[(0,)]"
      ]
     },
     "execution_count": 55,
     "metadata": {},
     "output_type": "execute_result"
    }
   ],
   "source": [
    "%%sql\n",
    "SELECT COUNT(*) num_null_factor_keys\n",
    "FROM collisions\n",
    "WHERE factor_key IS NULL;"
   ]
  },
  {
   "cell_type": "markdown",
   "metadata": {},
   "source": [
    "All contributing factor keys in our fact table have values.\n",
    "***\n",
    "Repeat the same process as above for the vehicle types involved in each collision. First create the table with a serial key."
   ]
  },
  {
   "cell_type": "code",
   "execution_count": 56,
   "metadata": {},
   "outputs": [
    {
     "name": "stdout",
     "output_type": "stream",
     "text": [
      " * postgresql://student@/project4\n",
      "Done.\n",
      "Done.\n"
     ]
    },
    {
     "data": {
      "text/plain": [
       "[]"
      ]
     },
     "execution_count": 56,
     "metadata": {},
     "output_type": "execute_result"
    }
   ],
   "source": [
    "%%sql\n",
    "DROP TABLE IF EXISTS vehicle_types;\n",
    "\n",
    "CREATE TABLE vehicle_types (\n",
    "    vehicles_key SERIAL PRIMARY KEY,\n",
    "    vehicle1 VARCHAR(100),\n",
    "    vehicle2 VARCHAR(100),\n",
    "    vehicle3 VARCHAR(100),\n",
    "    vehicle4 VARCHAR(100),\n",
    "    vehicle5 VARCHAR(100)\n",
    ");"
   ]
  },
  {
   "cell_type": "markdown",
   "metadata": {},
   "source": [
    "Insert distinct combinations of vehicle types from our fact table `collisions`."
   ]
  },
  {
   "cell_type": "code",
   "execution_count": 57,
   "metadata": {},
   "outputs": [
    {
     "name": "stdout",
     "output_type": "stream",
     "text": [
      " * postgresql://student@/project4\n",
      "7433 rows affected.\n"
     ]
    },
    {
     "data": {
      "text/plain": [
       "[]"
      ]
     },
     "execution_count": 57,
     "metadata": {},
     "output_type": "execute_result"
    }
   ],
   "source": [
    "%%sql\n",
    "INSERT INTO vehicle_types (vehicle1, vehicle2, vehicle3, vehicle4, vehicle5)\n",
    "SELECT DISTINCT vehicle_type_code_1, vehicle_type_code_2, vehicle_type_code_3, vehicle_type_code_4, vehicle_type_code_5\n",
    "FROM collisions;"
   ]
  },
  {
   "cell_type": "markdown",
   "metadata": {},
   "source": [
    "Create an index to speed up the remaining ETL steps."
   ]
  },
  {
   "cell_type": "code",
   "execution_count": 58,
   "metadata": {},
   "outputs": [
    {
     "name": "stdout",
     "output_type": "stream",
     "text": [
      " * postgresql://student@/project4\n",
      "Done.\n",
      "Done.\n"
     ]
    },
    {
     "data": {
      "text/plain": [
       "[]"
      ]
     },
     "execution_count": 58,
     "metadata": {},
     "output_type": "execute_result"
    }
   ],
   "source": [
    "%%sql\n",
    "DROP INDEX IF EXISTS idx_vehicles;\n",
    "\n",
    "CREATE INDEX idx_vehicles ON vehicle_types (vehicle1, vehicle2, vehicle3, vehicle4, vehicle5);"
   ]
  },
  {
   "cell_type": "markdown",
   "metadata": {},
   "source": [
    "Add a column into the fact table `collisions` to house the vehicle types foreign key."
   ]
  },
  {
   "cell_type": "code",
   "execution_count": 59,
   "metadata": {},
   "outputs": [
    {
     "name": "stdout",
     "output_type": "stream",
     "text": [
      " * postgresql://student@/project4\n",
      "Done.\n"
     ]
    },
    {
     "data": {
      "text/plain": [
       "[]"
      ]
     },
     "execution_count": 59,
     "metadata": {},
     "output_type": "execute_result"
    }
   ],
   "source": [
    "%%sql\n",
    "ALTER TABLE collisions\n",
    "ADD COLUMN vehicles_key INTEGER,\n",
    "ADD CONSTRAINT fk_vehicles_key\n",
    "    FOREIGN KEY (vehicles_key)\n",
    "    REFERENCES vehicle_types (vehicles_key);"
   ]
  },
  {
   "cell_type": "markdown",
   "metadata": {},
   "source": [
    "Update the initially NULL values to the corresponding key in the vehicle types dimension table."
   ]
  },
  {
   "cell_type": "code",
   "execution_count": 60,
   "metadata": {},
   "outputs": [
    {
     "name": "stdout",
     "output_type": "stream",
     "text": [
      " * postgresql://student@/project4\n",
      "1385920 rows affected.\n"
     ]
    },
    {
     "data": {
      "text/plain": [
       "[]"
      ]
     },
     "execution_count": 60,
     "metadata": {},
     "output_type": "execute_result"
    }
   ],
   "source": [
    "%%sql\n",
    "UPDATE collisions\n",
    "SET vehicles_key = vehicle_types.vehicles_key\n",
    "FROM vehicle_types\n",
    "WHERE vehicle_types.vehicle1 = collisions.vehicle_type_code_1\n",
    "AND vehicle_types.vehicle2 = collisions.vehicle_type_code_2\n",
    "AND vehicle_types.vehicle3 = collisions.vehicle_type_code_3\n",
    "AND vehicle_types.vehicle4 = collisions.vehicle_type_code_4\n",
    "AND vehicle_types.vehicle5 = collisions.vehicle_type_code_5;"
   ]
  },
  {
   "cell_type": "markdown",
   "metadata": {},
   "source": [
    "All rows were affected, but let's verify that no vehicle type keys in the fact table are NULL."
   ]
  },
  {
   "cell_type": "code",
   "execution_count": 61,
   "metadata": {},
   "outputs": [
    {
     "name": "stdout",
     "output_type": "stream",
     "text": [
      " * postgresql://student@/project4\n",
      "1 rows affected.\n"
     ]
    },
    {
     "data": {
      "text/html": [
       "<table>\n",
       "    <tr>\n",
       "        <th>num_null_vehicles_keys</th>\n",
       "    </tr>\n",
       "    <tr>\n",
       "        <td>0</td>\n",
       "    </tr>\n",
       "</table>"
      ],
      "text/plain": [
       "[(0,)]"
      ]
     },
     "execution_count": 61,
     "metadata": {},
     "output_type": "execute_result"
    }
   ],
   "source": [
    "%%sql\n",
    "SELECT COUNT(*) num_null_vehicles_keys\n",
    "FROM collisions\n",
    "WHERE vehicles_key IS NULL;"
   ]
  },
  {
   "cell_type": "markdown",
   "metadata": {},
   "source": [
    "All vehicle type keys in our fact table have values.\n",
    "***\n",
    "#### Bonus\n",
    "We use our bonus weather data to augment our schema. We first uploaded our dataset into Trifacta Wrangler where we performed the following cleaning steps:\n",
    "1. Filter to only keep rows from the JFK airport weather station.\n",
    "2. Split the Date column into separate month, day, year, and hour columns.\n",
    "3. We removed all the fact and dimension columns we are not using in our analysis. We only keep our date and time columns as well as `HPCP` or hourly precipitation.\n",
    "\n",
    "The Trifacta recipe that describes all the wrangling steps is shown below:\n",
    "```\n",
    "filter type: custom rowType: single row: STATION_NAME == 'JFK INTERNATIONAL AIRPORT NY US' action: Keep\n",
    "splitpositions col: DATE type: positions positions: 4,6,8 limit: 1\n",
    "settype col: DATE2 type: Integer\n",
    "settype col: DATE1 type: Integer\n",
    "textformat col: DATE4 type: trimwhitespace\n",
    "extractpatterns type: custom col: DATE4 end: ':'\n",
    "drop col: DATE4 action: Drop\n",
    "rename type: manual mapping: [DATE1,'year']\n",
    "rename type: manual mapping: [DATE2,'month']\n",
    "rename type: manual mapping: [DATE3,'day']\n",
    "rename type: manual mapping: [DATE5,'hour']\n",
    "drop col: STATION,STATION_NAME action: Drop\n",
    "```\n",
    "\n",
    "After running our dataset through this recipe, we have a cleaned weather dataset. We download the cleaned file from S3 in the step below."
   ]
  },
  {
   "cell_type": "code",
   "execution_count": 62,
   "metadata": {},
   "outputs": [
    {
     "name": "stdout",
     "output_type": "stream",
     "text": [
      "--2018-12-10 15:14:17--  https://s3.amazonaws.com/gwu-workshop-patel-2018/data-management-project-4/clean_weather.csv\n",
      "Resolving s3.amazonaws.com (s3.amazonaws.com)... 52.216.132.189\n",
      "Connecting to s3.amazonaws.com (s3.amazonaws.com)|52.216.132.189|:443... connected.\n",
      "HTTP request sent, awaiting response... 200 OK\n",
      "Length: 52293 (51K) [text/csv]\n",
      "Saving to: ‘clean_weather.csv’\n",
      "\n",
      "clean_weather.csv   100%[===================>]  51.07K  --.-KB/s    in 0.002s  \n",
      "\n",
      "2018-12-10 15:14:17 (30.3 MB/s) - ‘clean_weather.csv’ saved [52293/52293]\n",
      "\n"
     ]
    }
   ],
   "source": [
    "!wget \"https://s3.amazonaws.com/gwu-workshop-patel-2018/data-management-project-4/clean_weather.csv\""
   ]
  },
  {
   "cell_type": "markdown",
   "metadata": {},
   "source": [
    "Repeat the ETL process for the weather data, linking them to collisions by year, month, day, and hour. First create a table with all the columns from our data file plus a serial primary key."
   ]
  },
  {
   "cell_type": "code",
   "execution_count": 63,
   "metadata": {},
   "outputs": [
    {
     "name": "stdout",
     "output_type": "stream",
     "text": [
      " * postgresql://student@/project4\n",
      "Done.\n",
      "Done.\n"
     ]
    },
    {
     "data": {
      "text/plain": [
       "[]"
      ]
     },
     "execution_count": 63,
     "metadata": {},
     "output_type": "execute_result"
    }
   ],
   "source": [
    "%%sql\n",
    "DROP TABLE IF EXISTS weather;\n",
    "\n",
    "CREATE TABLE weather (\n",
    "    weather_key SERIAL PRIMARY KEY,\n",
    "    year INTEGER NOT NULL,\n",
    "    month INTEGER NOT NULL,\n",
    "    day INTEGER NOT NULL,\n",
    "    hour INTEGER NOT NULL,\n",
    "    precip NUMERIC NOT NULL\n",
    ");"
   ]
  },
  {
   "cell_type": "markdown",
   "metadata": {},
   "source": [
    "Load data into the table from our CSV file.\n",
    "\n",
    "**Note: you will likely have to change the file path with the location of the CSV file based on your directory setup!**"
   ]
  },
  {
   "cell_type": "code",
   "execution_count": 64,
   "metadata": {},
   "outputs": [
    {
     "name": "stdout",
     "output_type": "stream",
     "text": [
      " * postgresql://student@/project4\n",
      "1802 rows affected.\n"
     ]
    },
    {
     "data": {
      "text/plain": [
       "[]"
      ]
     },
     "execution_count": 64,
     "metadata": {},
     "output_type": "execute_result"
    }
   ],
   "source": [
    "%%sql\n",
    "COPY weather (year, month, day, hour, precip) FROM '/home/ubuntu/project-4/clean_weather.csv'\n",
    "CSV\n",
    "HEADER;"
   ]
  },
  {
   "cell_type": "markdown",
   "metadata": {},
   "source": [
    "Create an index to speed up the remaining ETL steps."
   ]
  },
  {
   "cell_type": "code",
   "execution_count": 65,
   "metadata": {},
   "outputs": [
    {
     "name": "stdout",
     "output_type": "stream",
     "text": [
      " * postgresql://student@/project4\n",
      "Done.\n",
      "Done.\n"
     ]
    },
    {
     "data": {
      "text/plain": [
       "[]"
      ]
     },
     "execution_count": 65,
     "metadata": {},
     "output_type": "execute_result"
    }
   ],
   "source": [
    "%%sql\n",
    "DROP INDEX IF EXISTS idx_weather;\n",
    "\n",
    "CREATE INDEX idx_weather ON weather (year, month, day, hour, precip);"
   ]
  },
  {
   "cell_type": "markdown",
   "metadata": {},
   "source": [
    "Add a column into the fact table `collisions` to house the weather foreign key."
   ]
  },
  {
   "cell_type": "code",
   "execution_count": 66,
   "metadata": {},
   "outputs": [
    {
     "name": "stdout",
     "output_type": "stream",
     "text": [
      " * postgresql://student@/project4\n",
      "Done.\n"
     ]
    },
    {
     "data": {
      "text/plain": [
       "[]"
      ]
     },
     "execution_count": 66,
     "metadata": {},
     "output_type": "execute_result"
    }
   ],
   "source": [
    "%%sql\n",
    "ALTER TABLE collisions\n",
    "ADD COLUMN weather_key INTEGER,\n",
    "ADD CONSTRAINT fk_weather_key\n",
    "    FOREIGN KEY (weather_key)\n",
    "    REFERENCES weather (weather_key);"
   ]
  },
  {
   "cell_type": "markdown",
   "metadata": {},
   "source": [
    "Update the initially NULL values to the corresponding key in the vehicle types dimension table."
   ]
  },
  {
   "cell_type": "code",
   "execution_count": 67,
   "metadata": {},
   "outputs": [
    {
     "name": "stdout",
     "output_type": "stream",
     "text": [
      " * postgresql://student@/project4\n",
      "47631 rows affected.\n"
     ]
    },
    {
     "data": {
      "text/plain": [
       "[]"
      ]
     },
     "execution_count": 67,
     "metadata": {},
     "output_type": "execute_result"
    }
   ],
   "source": [
    "%%sql\n",
    "UPDATE collisions\n",
    "SET weather_key = weather.weather_key\n",
    "FROM weather\n",
    "WHERE weather.year = collisions.year\n",
    "AND weather.month = collisions.month\n",
    "AND weather.day = collisions.day\n",
    "AND weather.hour = collisions.hour;"
   ]
  },
  {
   "cell_type": "markdown",
   "metadata": {},
   "source": [
    "We know that we only have some of the weather data so most of the weather keys in the fact table will be NULL."
   ]
  },
  {
   "cell_type": "code",
   "execution_count": 68,
   "metadata": {},
   "outputs": [
    {
     "name": "stdout",
     "output_type": "stream",
     "text": [
      " * postgresql://student@/project4\n",
      "1 rows affected.\n"
     ]
    },
    {
     "data": {
      "text/html": [
       "<table>\n",
       "    <tr>\n",
       "        <th>num_null_weather_keys</th>\n",
       "    </tr>\n",
       "    <tr>\n",
       "        <td>1338289</td>\n",
       "    </tr>\n",
       "</table>"
      ],
      "text/plain": [
       "[(1338289,)]"
      ]
     },
     "execution_count": 68,
     "metadata": {},
     "output_type": "execute_result"
    }
   ],
   "source": [
    "%%sql\n",
    "SELECT COUNT(*) num_null_weather_keys\n",
    "FROM collisions\n",
    "WHERE weather_key IS NULL;"
   ]
  },
  {
   "cell_type": "markdown",
   "metadata": {},
   "source": [
    "As we carry on with our analysis, keep note of this caveat that we do not have a comprehensive weather dataset.\n",
    "***\n",
    "Now that we have our separate dimension tables, let's drop our dimensions from our fact table. The only remaining columns within our fact table will now be the fact table's primary key, our 2 facts (`persons_inj` and `persons_kil`), and 5 foreign keys referencing each of the 5 dimension tables."
   ]
  },
  {
   "cell_type": "code",
   "execution_count": 69,
   "metadata": {},
   "outputs": [
    {
     "name": "stdout",
     "output_type": "stream",
     "text": [
      " * postgresql://student@/project4\n",
      "Done.\n"
     ]
    },
    {
     "data": {
      "text/plain": [
       "[]"
      ]
     },
     "execution_count": 69,
     "metadata": {},
     "output_type": "execute_result"
    }
   ],
   "source": [
    "%%sql\n",
    "ALTER TABLE collisions\n",
    "DROP COLUMN month,\n",
    "DROP COLUMN day,\n",
    "DROP COLUMN year,\n",
    "DROP COLUMN weekday,\n",
    "DROP COLUMN hour,\n",
    "DROP COLUMN minute,\n",
    "DROP COLUMN time_of_day,\n",
    "DROP COLUMN borough,\n",
    "DROP COLUMN contrib_factor_vehicle_1,\n",
    "DROP COLUMN contrib_factor_vehicle_2,\n",
    "DROP COLUMN contrib_factor_vehicle_3,\n",
    "DROP COLUMN contrib_factor_vehicle_4,\n",
    "DROP COLUMN contrib_factor_vehicle_5,\n",
    "DROP COLUMN key,\n",
    "DROP COLUMN vehicle_type_code_1,\n",
    "DROP COLUMN vehicle_type_code_2,\n",
    "DROP COLUMN vehicle_type_code_3,\n",
    "DROP COLUMN vehicle_type_code_4,\n",
    "DROP COLUMN vehicle_type_code_5;"
   ]
  },
  {
   "cell_type": "markdown",
   "metadata": {},
   "source": [
    "Let's verify that our fact table conforms to the defined schema and that the number of records in the fact table match our initial file."
   ]
  },
  {
   "cell_type": "code",
   "execution_count": 70,
   "metadata": {},
   "outputs": [
    {
     "name": "stdout",
     "output_type": "stream",
     "text": [
      " * postgresql://student@/project4\n",
      "5 rows affected.\n"
     ]
    },
    {
     "data": {
      "text/html": [
       "<table>\n",
       "    <tr>\n",
       "        <th>persons_inj</th>\n",
       "        <th>persons_kil</th>\n",
       "        <th>collision_location_key</th>\n",
       "        <th>time_key</th>\n",
       "        <th>factor_key</th>\n",
       "        <th>vehicles_key</th>\n",
       "        <th>weather_key</th>\n",
       "    </tr>\n",
       "    <tr>\n",
       "        <td>1</td>\n",
       "        <td>0</td>\n",
       "        <td>4</td>\n",
       "        <td>212286</td>\n",
       "        <td>1559</td>\n",
       "        <td>4094</td>\n",
       "        <td>None</td>\n",
       "    </tr>\n",
       "    <tr>\n",
       "        <td>0</td>\n",
       "        <td>0</td>\n",
       "        <td>3</td>\n",
       "        <td>50913</td>\n",
       "        <td>1</td>\n",
       "        <td>1</td>\n",
       "        <td>None</td>\n",
       "    </tr>\n",
       "    <tr>\n",
       "        <td>0</td>\n",
       "        <td>0</td>\n",
       "        <td>5</td>\n",
       "        <td>145311</td>\n",
       "        <td>4408</td>\n",
       "        <td>4094</td>\n",
       "        <td>None</td>\n",
       "    </tr>\n",
       "    <tr>\n",
       "        <td>0</td>\n",
       "        <td>0</td>\n",
       "        <td>2</td>\n",
       "        <td>274947</td>\n",
       "        <td>4408</td>\n",
       "        <td>4094</td>\n",
       "        <td>None</td>\n",
       "    </tr>\n",
       "    <tr>\n",
       "        <td>0</td>\n",
       "        <td>0</td>\n",
       "        <td>4</td>\n",
       "        <td>587043</td>\n",
       "        <td>4408</td>\n",
       "        <td>4094</td>\n",
       "        <td>None</td>\n",
       "    </tr>\n",
       "</table>"
      ],
      "text/plain": [
       "[(1, 0, 4, 212286, 1559, 4094, None),\n",
       " (0, 0, 3, 50913, 1, 1, None),\n",
       " (0, 0, 5, 145311, 4408, 4094, None),\n",
       " (0, 0, 2, 274947, 4408, 4094, None),\n",
       " (0, 0, 4, 587043, 4408, 4094, None)]"
      ]
     },
     "execution_count": 70,
     "metadata": {},
     "output_type": "execute_result"
    }
   ],
   "source": [
    "%%sql\n",
    "SELECT * FROM collisions LIMIT 5;"
   ]
  },
  {
   "cell_type": "code",
   "execution_count": 71,
   "metadata": {},
   "outputs": [
    {
     "name": "stdout",
     "output_type": "stream",
     "text": [
      " * postgresql://student@/project4\n",
      "1 rows affected.\n"
     ]
    },
    {
     "data": {
      "text/html": [
       "<table>\n",
       "    <tr>\n",
       "        <th>count</th>\n",
       "    </tr>\n",
       "    <tr>\n",
       "        <td>1385920</td>\n",
       "    </tr>\n",
       "</table>"
      ],
      "text/plain": [
       "[(1385920,)]"
      ]
     },
     "execution_count": 71,
     "metadata": {},
     "output_type": "execute_result"
    }
   ],
   "source": [
    "%%sql\n",
    "SELECT COUNT(*) FROM collisions;"
   ]
  },
  {
   "cell_type": "markdown",
   "metadata": {},
   "source": [
    "Now that we have verified both the conformity of our schema and the integrity of the rows in our fact table, we can move on to the next step: analysis.\n",
    "\n",
    "***\n",
    "## Part 3 - Analysis\n",
    "\n",
    "Now that our data conforms to our defined schema, we will begin to analyze our data to try to answer the questions we identified in part 1 and any follow-up questions we came up with during our analysis.\n",
    "\n",
    "#### Which vehicle types caused the most injuries and deaths?\n",
    "\n",
    "We wrote a SQL script that ran a group by and sum aggregate on all 5 vehicle type columns. After unioning them all together, we can aggregate those once more to find how many injuries were caused by each type of vehicle. The following table shows the top 5 most injury-causing vehicles along with the number of collisions and number of deaths."
   ]
  },
  {
   "cell_type": "code",
   "execution_count": 72,
   "metadata": {},
   "outputs": [
    {
     "name": "stdout",
     "output_type": "stream",
     "text": [
      " * postgresql://student@/project4\n",
      "5 rows affected.\n"
     ]
    },
    {
     "data": {
      "text/html": [
       "<table>\n",
       "    <tr>\n",
       "        <th>vehicle_type</th>\n",
       "        <th>total_collision</th>\n",
       "        <th>total_injury</th>\n",
       "        <th>total_killed</th>\n",
       "    </tr>\n",
       "    <tr>\n",
       "        <td>passenger vehicle</td>\n",
       "        <td>1346647</td>\n",
       "        <td>367420</td>\n",
       "        <td>1049</td>\n",
       "    </tr>\n",
       "    <tr>\n",
       "        <td>sport utility / station wagon</td>\n",
       "        <td>602021</td>\n",
       "        <td>160693</td>\n",
       "        <td>622</td>\n",
       "    </tr>\n",
       "    <tr>\n",
       "        <td>taxi</td>\n",
       "        <td>109017</td>\n",
       "        <td>26067</td>\n",
       "        <td>64</td>\n",
       "    </tr>\n",
       "    <tr>\n",
       "        <td>sedan</td>\n",
       "        <td>104918</td>\n",
       "        <td>31296</td>\n",
       "        <td>64</td>\n",
       "    </tr>\n",
       "    <tr>\n",
       "        <td>station wagon/sport utility vehicle</td>\n",
       "        <td>81990</td>\n",
       "        <td>23294</td>\n",
       "        <td>84</td>\n",
       "    </tr>\n",
       "</table>"
      ],
      "text/plain": [
       "[('passenger vehicle', Decimal('1346647'), Decimal('367420'), Decimal('1049')),\n",
       " ('sport utility / station wagon', Decimal('602021'), Decimal('160693'), Decimal('622')),\n",
       " ('taxi', Decimal('109017'), Decimal('26067'), Decimal('64')),\n",
       " ('sedan', Decimal('104918'), Decimal('31296'), Decimal('64')),\n",
       " ('station wagon/sport utility vehicle', Decimal('81990'), Decimal('23294'), Decimal('84'))]"
      ]
     },
     "execution_count": 72,
     "metadata": {},
     "output_type": "execute_result"
    }
   ],
   "source": [
    "%%sql\n",
    "SELECT LOWER(V.vehicle) AS Vehicle_type, sum(V.collision_count) AS Total_collision, sum(V.injury) AS Total_injury, sum(V.killed) AS Total_killed\n",
    "FROM (\n",
    "    SELECT vehicle_types.vehicle1 vehicle, count(vehicle_types.vehicle1) collision_count, sum(persons_inj) injury, sum(persons_kil) killed\n",
    "    FROM collisions\n",
    "    JOIN vehicle_types ON collisions.vehicles_key = vehicle_types.vehicles_key\n",
    "    GROUP BY vehicle_types.vehicle1\n",
    "    \n",
    "    UNION ALL\n",
    "    \n",
    "    SELECT vehicle_types.vehicle2, count(vehicle_types.vehicle2), sum(persons_inj), sum(persons_kil) killed\n",
    "    FROM collisions\n",
    "    JOIN vehicle_types ON collisions.vehicles_key = vehicle_types.vehicles_key\n",
    "    GROUP BY vehicle_types.vehicle2\n",
    "    \n",
    "    UNION ALL\n",
    "    \n",
    "    SELECT vehicle_types.vehicle3, count(vehicle_types.vehicle3), sum(persons_inj), sum(persons_kil) killed\n",
    "    FROM collisions\n",
    "    JOIN vehicle_types ON collisions.vehicles_key = vehicle_types.vehicles_key\n",
    "    GROUP BY vehicle_types.vehicle3\n",
    "    \n",
    "    UNION ALL\n",
    "    \n",
    "    SELECT vehicle_types.vehicle4, count(vehicle_types.vehicle4), sum(persons_inj), sum(persons_kil) killed\n",
    "    FROM collisions\n",
    "    JOIN vehicle_types ON collisions.vehicles_key = vehicle_types.vehicles_key\n",
    "    GROUP BY vehicle_types.vehicle4\n",
    "    \n",
    "    UNION ALL\n",
    "    \n",
    "    SELECT vehicle_types.vehicle5, count(vehicle_types.vehicle5), sum(persons_inj), sum(persons_kil) killed\n",
    "    FROM collisions\n",
    "    JOIN vehicle_types ON collisions.vehicles_key = vehicle_types.vehicles_key\n",
    "    GROUP BY vehicle_types.vehicle5\n",
    ") AS V\n",
    "\n",
    "GROUP BY LOWER(V.vehicle)\n",
    "HAVING LOWER(V.vehicle) != ''\n",
    "AND LOWER(V.vehicle) != 'unknown'\n",
    "\n",
    "ORDER BY sum(V.collision_count) DESC\n",
    "LIMIT 5;"
   ]
  },
  {
   "cell_type": "markdown",
   "metadata": {},
   "source": [
    "![](https://drive.google.com/uc?id=15tSfR6NUQv6WoueYqe7UjjGZP5TNvpMp)\n",
    "\n",
    "It is unsurprising that passenger vehicles are involved in the most collisions, injuries, and deaths. They constitute most of the vehicles one sees in the street of NYC. Given that the classifications of vehicle types are not mutually exclusive, as mentioned in our concerns earlier, the conclusions one can gain from this analysis are limited.\n",
    "\n",
    "***\n",
    "\n",
    "#### Which contributing factors caused the most injuries and deaths?\n",
    "\n",
    "Similar to the vehicle types analysis, we wrote a SQL script that ran a group by and sum aggregate on all 5 contributing factor columns. After unioning them all together, we can aggregate those once more to find how many injuries were caused by each factor. The following table shows the top 10 most injury-causing factors along with the number of collisions and number of deaths."
   ]
  },
  {
   "cell_type": "code",
   "execution_count": 73,
   "metadata": {},
   "outputs": [
    {
     "name": "stdout",
     "output_type": "stream",
     "text": [
      " * postgresql://student@/project4\n",
      "10 rows affected.\n"
     ]
    },
    {
     "data": {
      "text/html": [
       "<table>\n",
       "    <tr>\n",
       "        <th>contributing_factors</th>\n",
       "        <th>total_collision</th>\n",
       "        <th>total_injury</th>\n",
       "        <th>total_killed</th>\n",
       "    </tr>\n",
       "    <tr>\n",
       "        <td>driver inattention/distraction</td>\n",
       "        <td>282174</td>\n",
       "        <td>74528</td>\n",
       "        <td>208</td>\n",
       "    </tr>\n",
       "    <tr>\n",
       "        <td>failure to yield right-of-way</td>\n",
       "        <td>82874</td>\n",
       "        <td>33611</td>\n",
       "        <td>140</td>\n",
       "    </tr>\n",
       "    <tr>\n",
       "        <td>other vehicular</td>\n",
       "        <td>66486</td>\n",
       "        <td>14418</td>\n",
       "        <td>31</td>\n",
       "    </tr>\n",
       "    <tr>\n",
       "        <td>fatigued/drowsy</td>\n",
       "        <td>63126</td>\n",
       "        <td>17514</td>\n",
       "        <td>3</td>\n",
       "    </tr>\n",
       "    <tr>\n",
       "        <td>following too closely</td>\n",
       "        <td>58204</td>\n",
       "        <td>19661</td>\n",
       "        <td>20</td>\n",
       "    </tr>\n",
       "    <tr>\n",
       "        <td>backing unsafely</td>\n",
       "        <td>53640</td>\n",
       "        <td>5473</td>\n",
       "        <td>27</td>\n",
       "    </tr>\n",
       "    <tr>\n",
       "        <td>turning improperly</td>\n",
       "        <td>41474</td>\n",
       "        <td>6415</td>\n",
       "        <td>11</td>\n",
       "    </tr>\n",
       "    <tr>\n",
       "        <td>passing or lane usage improper</td>\n",
       "        <td>28988</td>\n",
       "        <td>3843</td>\n",
       "        <td>12</td>\n",
       "    </tr>\n",
       "    <tr>\n",
       "        <td>lost consciousness</td>\n",
       "        <td>26851</td>\n",
       "        <td>3350</td>\n",
       "        <td>22</td>\n",
       "    </tr>\n",
       "    <tr>\n",
       "        <td>traffic control disregarded</td>\n",
       "        <td>24176</td>\n",
       "        <td>14816</td>\n",
       "        <td>170</td>\n",
       "    </tr>\n",
       "</table>"
      ],
      "text/plain": [
       "[('driver inattention/distraction', Decimal('282174'), Decimal('74528'), Decimal('208')),\n",
       " ('failure to yield right-of-way', Decimal('82874'), Decimal('33611'), Decimal('140')),\n",
       " ('other vehicular', Decimal('66486'), Decimal('14418'), Decimal('31')),\n",
       " ('fatigued/drowsy', Decimal('63126'), Decimal('17514'), Decimal('3')),\n",
       " ('following too closely', Decimal('58204'), Decimal('19661'), Decimal('20')),\n",
       " ('backing unsafely', Decimal('53640'), Decimal('5473'), Decimal('27')),\n",
       " ('turning improperly', Decimal('41474'), Decimal('6415'), Decimal('11')),\n",
       " ('passing or lane usage improper', Decimal('28988'), Decimal('3843'), Decimal('12')),\n",
       " ('lost consciousness', Decimal('26851'), Decimal('3350'), Decimal('22')),\n",
       " ('traffic control disregarded', Decimal('24176'), Decimal('14816'), Decimal('170'))]"
      ]
     },
     "execution_count": 73,
     "metadata": {},
     "output_type": "execute_result"
    }
   ],
   "source": [
    "%%sql\n",
    "SELECT LOWER(F.factor) AS Contributing_Factors, sum(F.collision_count) AS Total_collision, sum(F.injured) AS Total_injury, sum(F.killed) AS Total_killed\n",
    "FROM(\n",
    "    SELECT contributing_factors.factor1 factor, count(contributing_factors.factor1) collision_count, sum(persons_inj) injured, sum(persons_kil) killed\n",
    "    FROM collisions\n",
    "    JOIN contributing_factors ON collisions.factor_key = contributing_factors.factor_key\n",
    "    GROUP BY contributing_factors.factor1\n",
    "    \n",
    "    UNION ALL\n",
    "    \n",
    "    SELECT contributing_factors.factor2, count(contributing_factors.factor2) collision_count, sum(persons_inj) injured_people, sum(persons_kil)\n",
    "    FROM collisions\n",
    "    JOIN contributing_factors ON collisions.factor_key = contributing_factors.factor_key\n",
    "    GROUP BY contributing_factors.factor2\n",
    "    \n",
    "    UNION ALL\n",
    "    \n",
    "    SELECT contributing_factors.factor3, count(contributing_factors.factor3) collision_count, sum(persons_inj) injured_people, sum(persons_kil)\n",
    "    FROM collisions\n",
    "    JOIN contributing_factors ON collisions.factor_key = contributing_factors.factor_key\n",
    "    GROUP BY contributing_factors.factor3\n",
    "    \n",
    "    UNION ALL\n",
    "    \n",
    "    SELECT contributing_factors.factor4, count(contributing_factors.factor4) collision_count, sum(persons_inj) injured_people, sum(persons_kil)\n",
    "    FROM collisions\n",
    "    JOIN contributing_factors ON collisions.factor_key = contributing_factors.factor_key\n",
    "    GROUP BY contributing_factors.factor4\n",
    "    \n",
    "    UNION ALL\n",
    "    \n",
    "    SELECT contributing_factors.factor5, count(contributing_factors.factor5) collision_count, sum(persons_inj) injured_people, sum(persons_kil)\n",
    "    FROM collisions\n",
    "    JOIN contributing_factors ON collisions.factor_key = contributing_factors.factor_key\n",
    "    GROUP BY contributing_factors.factor5\n",
    ") AS F\n",
    "\n",
    "GROUP BY F.factor\n",
    "HAVING F.factor != 'Unspecified'\n",
    "AND F.factor != ''\n",
    "ORDER BY sum(F.collision_count) DESC\n",
    "LIMIT 10;"
   ]
  },
  {
   "cell_type": "markdown",
   "metadata": {},
   "source": [
    "![](https://drive.google.com/uc?id=1yG5T24xSw1p1gFScpex0ppJPeP5pIbzD)\n",
    "\n",
    "It is unsurprising that driver innatention/distraction caused the most collisions, injuries, and deaths. More surprising is the the disproportional injury and death rate associated with disregarding traffic control! With about the same number of collisions cause as losing consciousness, disregarding traffic control causes about 4 times as many injuries and about 8 times as many deaths!\n",
    "\n",
    "***\n",
    "\n",
    "#### What are the trends in number of accidents, injuries, and deaths at the year, month, weekday, time of day, and hour level?\n",
    "\n",
    "To analyze any trends at the year level, we wrote a SQL script that grouped by the collision year. We excluded the years 2012 and 2018 because we only have partial data for those years."
   ]
  },
  {
   "cell_type": "code",
   "execution_count": 74,
   "metadata": {},
   "outputs": [
    {
     "name": "stdout",
     "output_type": "stream",
     "text": [
      " * postgresql://student@/project4\n",
      "5 rows affected.\n"
     ]
    },
    {
     "data": {
      "text/html": [
       "<table>\n",
       "    <tr>\n",
       "        <th>year</th>\n",
       "        <th>total_collision</th>\n",
       "        <th>injured_people</th>\n",
       "        <th>killed_people</th>\n",
       "    </tr>\n",
       "    <tr>\n",
       "        <td>2013</td>\n",
       "        <td>203724</td>\n",
       "        <td>55121</td>\n",
       "        <td>297</td>\n",
       "    </tr>\n",
       "    <tr>\n",
       "        <td>2014</td>\n",
       "        <td>206028</td>\n",
       "        <td>51207</td>\n",
       "        <td>262</td>\n",
       "    </tr>\n",
       "    <tr>\n",
       "        <td>2015</td>\n",
       "        <td>217691</td>\n",
       "        <td>51355</td>\n",
       "        <td>243</td>\n",
       "    </tr>\n",
       "    <tr>\n",
       "        <td>2016</td>\n",
       "        <td>228282</td>\n",
       "        <td>60374</td>\n",
       "        <td>240</td>\n",
       "    </tr>\n",
       "    <tr>\n",
       "        <td>2017</td>\n",
       "        <td>229423</td>\n",
       "        <td>61078</td>\n",
       "        <td>254</td>\n",
       "    </tr>\n",
       "</table>"
      ],
      "text/plain": [
       "[(2013, 203724, 55121, 297),\n",
       " (2014, 206028, 51207, 262),\n",
       " (2015, 217691, 51355, 243),\n",
       " (2016, 228282, 60374, 240),\n",
       " (2017, 229423, 61078, 254)]"
      ]
     },
     "execution_count": 74,
     "metadata": {},
     "output_type": "execute_result"
    }
   ],
   "source": [
    "%%sql\n",
    "SELECT time.year, count(*) AS Total_collision, sum(persons_inj) injured_people, sum(persons_kil) killed_people\n",
    "FROM collisions\n",
    "JOIN time ON collisions.time_key = time.time_key\n",
    "WHERE time.year != 2012 AND time.year != 2018\n",
    "GROUP BY time.year\n",
    "ORDER BY time.year;"
   ]
  },
  {
   "cell_type": "markdown",
   "metadata": {},
   "source": [
    "![](https://drive.google.com/uc?id=1XfHUm0ywg1VhimQm7oIBs4dUaWpiO15W)\n",
    "\n",
    "Seems like traffic collisions and injuries have increased over this time period. But we're curious to see how this trend compares to the volume of vehicles in the city.\n",
    "\n",
    "Let's examine the collisions on a month level. Because we're looking at the aggregate sums, we once again exclude 2012 and 2018."
   ]
  },
  {
   "cell_type": "code",
   "execution_count": 75,
   "metadata": {},
   "outputs": [
    {
     "name": "stdout",
     "output_type": "stream",
     "text": [
      " * postgresql://student@/project4\n",
      "12 rows affected.\n"
     ]
    },
    {
     "data": {
      "text/html": [
       "<table>\n",
       "    <tr>\n",
       "        <th>month</th>\n",
       "        <th>total_collision</th>\n",
       "        <th>injured_people</th>\n",
       "        <th>killed_people</th>\n",
       "    </tr>\n",
       "    <tr>\n",
       "        <td>1</td>\n",
       "        <td>83995</td>\n",
       "        <td>20518</td>\n",
       "        <td>103</td>\n",
       "    </tr>\n",
       "    <tr>\n",
       "        <td>2</td>\n",
       "        <td>77542</td>\n",
       "        <td>17089</td>\n",
       "        <td>81</td>\n",
       "    </tr>\n",
       "    <tr>\n",
       "        <td>3</td>\n",
       "        <td>88316</td>\n",
       "        <td>21219</td>\n",
       "        <td>83</td>\n",
       "    </tr>\n",
       "    <tr>\n",
       "        <td>4</td>\n",
       "        <td>85895</td>\n",
       "        <td>22104</td>\n",
       "        <td>97</td>\n",
       "    </tr>\n",
       "    <tr>\n",
       "        <td>5</td>\n",
       "        <td>97018</td>\n",
       "        <td>25430</td>\n",
       "        <td>105</td>\n",
       "    </tr>\n",
       "    <tr>\n",
       "        <td>6</td>\n",
       "        <td>96162</td>\n",
       "        <td>25363</td>\n",
       "        <td>112</td>\n",
       "    </tr>\n",
       "    <tr>\n",
       "        <td>7</td>\n",
       "        <td>93179</td>\n",
       "        <td>24980</td>\n",
       "        <td>126</td>\n",
       "    </tr>\n",
       "    <tr>\n",
       "        <td>8</td>\n",
       "        <td>91473</td>\n",
       "        <td>25218</td>\n",
       "        <td>131</td>\n",
       "    </tr>\n",
       "    <tr>\n",
       "        <td>9</td>\n",
       "        <td>92211</td>\n",
       "        <td>25333</td>\n",
       "        <td>112</td>\n",
       "    </tr>\n",
       "    <tr>\n",
       "        <td>10</td>\n",
       "        <td>95488</td>\n",
       "        <td>25341</td>\n",
       "        <td>115</td>\n",
       "    </tr>\n",
       "    <tr>\n",
       "        <td>11</td>\n",
       "        <td>91602</td>\n",
       "        <td>23585</td>\n",
       "        <td>130</td>\n",
       "    </tr>\n",
       "    <tr>\n",
       "        <td>12</td>\n",
       "        <td>92267</td>\n",
       "        <td>22955</td>\n",
       "        <td>101</td>\n",
       "    </tr>\n",
       "</table>"
      ],
      "text/plain": [
       "[(1, 83995, 20518, 103),\n",
       " (2, 77542, 17089, 81),\n",
       " (3, 88316, 21219, 83),\n",
       " (4, 85895, 22104, 97),\n",
       " (5, 97018, 25430, 105),\n",
       " (6, 96162, 25363, 112),\n",
       " (7, 93179, 24980, 126),\n",
       " (8, 91473, 25218, 131),\n",
       " (9, 92211, 25333, 112),\n",
       " (10, 95488, 25341, 115),\n",
       " (11, 91602, 23585, 130),\n",
       " (12, 92267, 22955, 101)]"
      ]
     },
     "execution_count": 75,
     "metadata": {},
     "output_type": "execute_result"
    }
   ],
   "source": [
    "%%sql\n",
    "SELECT time.month, count(*) AS Total_collision, sum(persons_inj) injured_people, sum(persons_kil) killed_people\n",
    "FROM collisions\n",
    "JOIN time ON collisions.time_key = time.time_key\n",
    "WHERE time.year != 2012 AND time.year != 2018\n",
    "GROUP BY time.month\n",
    "ORDER BY time.month;"
   ]
  },
  {
   "cell_type": "markdown",
   "metadata": {},
   "source": [
    "We can see that the number of collisions decreases in the post-Christmas winter months but peaks in late spring/early summer. This might be because less people are likely to drive in snowy conditions and more people are likely driving in optimal weather conditions. It could also be related to the number of tourists in the city (more in May/June and less in January/February). Injury numbers follow the same trend. Collision-related deaths, while they dip in the winter just like collisions and injuries, seem to peak in August and November instead.\n",
    "\n",
    "Let's examine the collisions at the weekday level."
   ]
  },
  {
   "cell_type": "code",
   "execution_count": 76,
   "metadata": {},
   "outputs": [
    {
     "name": "stdout",
     "output_type": "stream",
     "text": [
      " * postgresql://student@/project4\n",
      "7 rows affected.\n"
     ]
    },
    {
     "data": {
      "text/html": [
       "<table>\n",
       "    <tr>\n",
       "        <th>weekday</th>\n",
       "        <th>total_collision</th>\n",
       "        <th>injured_people</th>\n",
       "        <th>killed_people</th>\n",
       "    </tr>\n",
       "    <tr>\n",
       "        <td>1</td>\n",
       "        <td>198337</td>\n",
       "        <td>50306</td>\n",
       "        <td>249</td>\n",
       "    </tr>\n",
       "    <tr>\n",
       "        <td>2</td>\n",
       "        <td>206044</td>\n",
       "        <td>51333</td>\n",
       "        <td>216</td>\n",
       "    </tr>\n",
       "    <tr>\n",
       "        <td>3</td>\n",
       "        <td>204379</td>\n",
       "        <td>50884</td>\n",
       "        <td>210</td>\n",
       "    </tr>\n",
       "    <tr>\n",
       "        <td>4</td>\n",
       "        <td>208683</td>\n",
       "        <td>51462</td>\n",
       "        <td>210</td>\n",
       "    </tr>\n",
       "    <tr>\n",
       "        <td>5</td>\n",
       "        <td>221574</td>\n",
       "        <td>55466</td>\n",
       "        <td>242</td>\n",
       "    </tr>\n",
       "    <tr>\n",
       "        <td>6</td>\n",
       "        <td>183825</td>\n",
       "        <td>51552</td>\n",
       "        <td>241</td>\n",
       "    </tr>\n",
       "    <tr>\n",
       "        <td>7</td>\n",
       "        <td>163078</td>\n",
       "        <td>48781</td>\n",
       "        <td>256</td>\n",
       "    </tr>\n",
       "</table>"
      ],
      "text/plain": [
       "[(1, 198337, 50306, 249),\n",
       " (2, 206044, 51333, 216),\n",
       " (3, 204379, 50884, 210),\n",
       " (4, 208683, 51462, 210),\n",
       " (5, 221574, 55466, 242),\n",
       " (6, 183825, 51552, 241),\n",
       " (7, 163078, 48781, 256)]"
      ]
     },
     "execution_count": 76,
     "metadata": {},
     "output_type": "execute_result"
    }
   ],
   "source": [
    "%%sql\n",
    "SELECT time.weekday, count(*) AS Total_collision, sum(persons_inj) injured_people, sum(persons_kil) killed_people\n",
    "FROM collisions\n",
    "JOIN time ON collisions.time_key = time.time_key\n",
    "GROUP BY time.weekday\n",
    "ORDER BY time.weekday;"
   ]
  },
  {
   "cell_type": "markdown",
   "metadata": {},
   "source": [
    "Knowing that 1 is Monday, we see that the number of collisions is somewhat higher on weekdays, with the highest peak on Friday. Injuries follow a similar pattern but without as much of a decrease on Saturdays. Deaths seem to follow a different pattern, with the least deaths in the middle of the week and the most on Friday, Saturday, Sunday, and Monday. We can't think of any explanation for this trend.\n",
    "\n",
    "Let's examine the collisions at the hour level."
   ]
  },
  {
   "cell_type": "code",
   "execution_count": 77,
   "metadata": {},
   "outputs": [
    {
     "name": "stdout",
     "output_type": "stream",
     "text": [
      " * postgresql://student@/project4\n",
      "24 rows affected.\n"
     ]
    },
    {
     "data": {
      "text/html": [
       "<table>\n",
       "    <tr>\n",
       "        <th>hour</th>\n",
       "        <th>total_collision</th>\n",
       "        <th>injured_people</th>\n",
       "        <th>killed_people</th>\n",
       "    </tr>\n",
       "    <tr>\n",
       "        <td>0</td>\n",
       "        <td>38695</td>\n",
       "        <td>11591</td>\n",
       "        <td>72</td>\n",
       "    </tr>\n",
       "    <tr>\n",
       "        <td>1</td>\n",
       "        <td>21646</td>\n",
       "        <td>6947</td>\n",
       "        <td>57</td>\n",
       "    </tr>\n",
       "    <tr>\n",
       "        <td>2</td>\n",
       "        <td>16443</td>\n",
       "        <td>5565</td>\n",
       "        <td>61</td>\n",
       "    </tr>\n",
       "    <tr>\n",
       "        <td>3</td>\n",
       "        <td>14128</td>\n",
       "        <td>4983</td>\n",
       "        <td>68</td>\n",
       "    </tr>\n",
       "    <tr>\n",
       "        <td>4</td>\n",
       "        <td>16507</td>\n",
       "        <td>6228</td>\n",
       "        <td>94</td>\n",
       "    </tr>\n",
       "    <tr>\n",
       "        <td>5</td>\n",
       "        <td>18132</td>\n",
       "        <td>5933</td>\n",
       "        <td>64</td>\n",
       "    </tr>\n",
       "    <tr>\n",
       "        <td>6</td>\n",
       "        <td>28705</td>\n",
       "        <td>8332</td>\n",
       "        <td>71</td>\n",
       "    </tr>\n",
       "    <tr>\n",
       "        <td>7</td>\n",
       "        <td>39668</td>\n",
       "        <td>11217</td>\n",
       "        <td>39</td>\n",
       "    </tr>\n",
       "    <tr>\n",
       "        <td>8</td>\n",
       "        <td>77952</td>\n",
       "        <td>18441</td>\n",
       "        <td>38</td>\n",
       "    </tr>\n",
       "    <tr>\n",
       "        <td>9</td>\n",
       "        <td>76894</td>\n",
       "        <td>15927</td>\n",
       "        <td>50</td>\n",
       "    </tr>\n",
       "    <tr>\n",
       "        <td>10</td>\n",
       "        <td>70885</td>\n",
       "        <td>14171</td>\n",
       "        <td>58</td>\n",
       "    </tr>\n",
       "    <tr>\n",
       "        <td>11</td>\n",
       "        <td>73482</td>\n",
       "        <td>15392</td>\n",
       "        <td>54</td>\n",
       "    </tr>\n",
       "    <tr>\n",
       "        <td>12</td>\n",
       "        <td>77809</td>\n",
       "        <td>16881</td>\n",
       "        <td>60</td>\n",
       "    </tr>\n",
       "    <tr>\n",
       "        <td>13</td>\n",
       "        <td>82121</td>\n",
       "        <td>18309</td>\n",
       "        <td>51</td>\n",
       "    </tr>\n",
       "    <tr>\n",
       "        <td>14</td>\n",
       "        <td>94954</td>\n",
       "        <td>22030</td>\n",
       "        <td>59</td>\n",
       "    </tr>\n",
       "    <tr>\n",
       "        <td>15</td>\n",
       "        <td>87004</td>\n",
       "        <td>22410</td>\n",
       "        <td>60</td>\n",
       "    </tr>\n",
       "    <tr>\n",
       "        <td>16</td>\n",
       "        <td>103629</td>\n",
       "        <td>24697</td>\n",
       "        <td>71</td>\n",
       "    </tr>\n",
       "    <tr>\n",
       "        <td>17</td>\n",
       "        <td>100496</td>\n",
       "        <td>25380</td>\n",
       "        <td>93</td>\n",
       "    </tr>\n",
       "    <tr>\n",
       "        <td>18</td>\n",
       "        <td>87736</td>\n",
       "        <td>23950</td>\n",
       "        <td>84</td>\n",
       "    </tr>\n",
       "    <tr>\n",
       "        <td>19</td>\n",
       "        <td>71244</td>\n",
       "        <td>20400</td>\n",
       "        <td>84</td>\n",
       "    </tr>\n",
       "    <tr>\n",
       "        <td>20</td>\n",
       "        <td>58900</td>\n",
       "        <td>18205</td>\n",
       "        <td>86</td>\n",
       "    </tr>\n",
       "    <tr>\n",
       "        <td>21</td>\n",
       "        <td>48909</td>\n",
       "        <td>15729</td>\n",
       "        <td>87</td>\n",
       "    </tr>\n",
       "    <tr>\n",
       "        <td>22</td>\n",
       "        <td>44080</td>\n",
       "        <td>14584</td>\n",
       "        <td>81</td>\n",
       "    </tr>\n",
       "    <tr>\n",
       "        <td>23</td>\n",
       "        <td>35901</td>\n",
       "        <td>12482</td>\n",
       "        <td>82</td>\n",
       "    </tr>\n",
       "</table>"
      ],
      "text/plain": [
       "[(0, 38695, 11591, 72),\n",
       " (1, 21646, 6947, 57),\n",
       " (2, 16443, 5565, 61),\n",
       " (3, 14128, 4983, 68),\n",
       " (4, 16507, 6228, 94),\n",
       " (5, 18132, 5933, 64),\n",
       " (6, 28705, 8332, 71),\n",
       " (7, 39668, 11217, 39),\n",
       " (8, 77952, 18441, 38),\n",
       " (9, 76894, 15927, 50),\n",
       " (10, 70885, 14171, 58),\n",
       " (11, 73482, 15392, 54),\n",
       " (12, 77809, 16881, 60),\n",
       " (13, 82121, 18309, 51),\n",
       " (14, 94954, 22030, 59),\n",
       " (15, 87004, 22410, 60),\n",
       " (16, 103629, 24697, 71),\n",
       " (17, 100496, 25380, 93),\n",
       " (18, 87736, 23950, 84),\n",
       " (19, 71244, 20400, 84),\n",
       " (20, 58900, 18205, 86),\n",
       " (21, 48909, 15729, 87),\n",
       " (22, 44080, 14584, 81),\n",
       " (23, 35901, 12482, 82)]"
      ]
     },
     "execution_count": 77,
     "metadata": {},
     "output_type": "execute_result"
    }
   ],
   "source": [
    "%%sql\n",
    "SELECT time.hour, count(*) AS Total_collision, sum(persons_inj) injured_people, sum(persons_kil) killed_people\n",
    "FROM collisions\n",
    "JOIN time ON collisions.time_key = time.time_key\n",
    "GROUP BY time.hour\n",
    "ORDER BY time.hour;"
   ]
  },
  {
   "cell_type": "markdown",
   "metadata": {},
   "source": [
    "![](https://drive.google.com/uc?id=1UefQg36BP_0eVZooerjBrH0NWdpL6UcB)\n",
    "\n",
    "We can see that both collisions and injuries peak in the afternoon around 4-5pm. We believe that as drivers cause more accidents and injuries as they anxiously try to get home after a long workday. Interestingly, deaths peaks during this time but *also* slightly peaks around the 4am-6am time. People rushing to get to work is a potential cause of this.\n",
    "\n",
    "Finally, let's examine the collisions at the time of day level (morning, afternoon, evening, or night)."
   ]
  },
  {
   "cell_type": "code",
   "execution_count": 78,
   "metadata": {},
   "outputs": [
    {
     "name": "stdout",
     "output_type": "stream",
     "text": [
      " * postgresql://student@/project4\n",
      "4 rows affected.\n"
     ]
    },
    {
     "data": {
      "text/html": [
       "<table>\n",
       "    <tr>\n",
       "        <th>time_of_day</th>\n",
       "        <th>total_collision</th>\n",
       "        <th>total_injury</th>\n",
       "        <th>total_killed</th>\n",
       "    </tr>\n",
       "    <tr>\n",
       "        <td>Afternoon</td>\n",
       "        <td>546013</td>\n",
       "        <td>129707</td>\n",
       "        <td>394</td>\n",
       "    </tr>\n",
       "    <tr>\n",
       "        <td>Morning</td>\n",
       "        <td>367586</td>\n",
       "        <td>83480</td>\n",
       "        <td>310</td>\n",
       "    </tr>\n",
       "    <tr>\n",
       "        <td>Evening</td>\n",
       "        <td>266789</td>\n",
       "        <td>78284</td>\n",
       "        <td>341</td>\n",
       "    </tr>\n",
       "    <tr>\n",
       "        <td>Night</td>\n",
       "        <td>205532</td>\n",
       "        <td>68313</td>\n",
       "        <td>579</td>\n",
       "    </tr>\n",
       "</table>"
      ],
      "text/plain": [
       "[('Afternoon', 546013, 129707, 394),\n",
       " ('Morning', 367586, 83480, 310),\n",
       " ('Evening', 266789, 78284, 341),\n",
       " ('Night', 205532, 68313, 579)]"
      ]
     },
     "execution_count": 78,
     "metadata": {},
     "output_type": "execute_result"
    }
   ],
   "source": [
    "%%sql\n",
    "SELECT time.time_of_day, count(*) AS Total_collision, sum(persons_inj) AS Total_injury, sum(persons_kil) AS Total_killed\n",
    "FROM collisions\n",
    "JOIN time ON collisions.time_key = time.time_key\n",
    "GROUP BY time.time_of_day\n",
    "ORDER BY sum(persons_inj) DESC, sum(persons_kil) DESC;"
   ]
  },
  {
   "cell_type": "markdown",
   "metadata": {},
   "source": [
    "Seems like collisions and injuries happen more in the afternoon. Deaths, however, occur more often at night - maybe the darkness has an impact on how lethal collisions are.\n",
    "\n",
    "***\n",
    "\n",
    "#### In which borough did the most accidents, injuries, and deaths occur? Were there any time-related trends within boroughs?\n",
    "\n",
    "To obtain those metrics per borough, we wrote a SQL script that grouped by the borough of the accident. We excluded collisions that had no borough labeled. We think that while it is likely that, in most cases, the officer reporting the collision simply didn't add any location info, some of the unmarked collisions could represent accidents that occured on roads that connect two boroughs (ex. Brooklyn Bridge, which is in between Manhattan and Brooklyn)."
   ]
  },
  {
   "cell_type": "code",
   "execution_count": 79,
   "metadata": {},
   "outputs": [
    {
     "name": "stdout",
     "output_type": "stream",
     "text": [
      " * postgresql://student@/project4\n",
      "5 rows affected.\n"
     ]
    },
    {
     "data": {
      "text/html": [
       "<table>\n",
       "    <tr>\n",
       "        <th>borough</th>\n",
       "        <th>total_collision</th>\n",
       "        <th>injured_people</th>\n",
       "        <th>killed_people</th>\n",
       "    </tr>\n",
       "    <tr>\n",
       "        <td>BROOKLYN</td>\n",
       "        <td>301660</td>\n",
       "        <td>87785</td>\n",
       "        <td>340</td>\n",
       "    </tr>\n",
       "    <tr>\n",
       "        <td>QUEENS</td>\n",
       "        <td>257042</td>\n",
       "        <td>67083</td>\n",
       "        <td>318</td>\n",
       "    </tr>\n",
       "    <tr>\n",
       "        <td>MANHATTAN</td>\n",
       "        <td>240732</td>\n",
       "        <td>41469</td>\n",
       "        <td>194</td>\n",
       "    </tr>\n",
       "    <tr>\n",
       "        <td>BRONX</td>\n",
       "        <td>132687</td>\n",
       "        <td>37775</td>\n",
       "        <td>149</td>\n",
       "    </tr>\n",
       "    <tr>\n",
       "        <td>STATEN ISLAND</td>\n",
       "        <td>44368</td>\n",
       "        <td>10689</td>\n",
       "        <td>60</td>\n",
       "    </tr>\n",
       "</table>"
      ],
      "text/plain": [
       "[('BROOKLYN', 301660, 87785, 340),\n",
       " ('QUEENS', 257042, 67083, 318),\n",
       " ('MANHATTAN', 240732, 41469, 194),\n",
       " ('BRONX', 132687, 37775, 149),\n",
       " ('STATEN ISLAND', 44368, 10689, 60)]"
      ]
     },
     "execution_count": 79,
     "metadata": {},
     "output_type": "execute_result"
    }
   ],
   "source": [
    "%%sql\n",
    "SELECT collision_location.borough, count(*) AS Total_collision, sum(persons_inj) injured_people, sum(persons_kil) killed_people\n",
    "FROM collisions\n",
    "JOIN collision_location ON collisions.collision_location_key = collision_location.collision_location_key\n",
    "WHERE collision_location.borough != ''\n",
    "GROUP BY collision_location.borough\n",
    "ORDER BY count(*) DESC;"
   ]
  },
  {
   "cell_type": "markdown",
   "metadata": {},
   "source": [
    "![](https://drive.google.com/uc?id=1cgZBPcX8iMBsSkUY6WLr0ccpuJ3BhX5N)\n",
    "\n",
    "Seems like most collisions, injuries, and deaths occur in Brooklyn, followed by Queens, Manhattan, Bronx, then Staten Island. This order of boroughs is the same if we were to order them by population, so we think that these metrics might be correlated.\n",
    "\n",
    "Let's also look at these metrics split by borough over the years. Once again, we are excluding collisions with no borough data and the years 2012 and 2018 because of partial data."
   ]
  },
  {
   "cell_type": "code",
   "execution_count": 80,
   "metadata": {},
   "outputs": [
    {
     "name": "stdout",
     "output_type": "stream",
     "text": [
      " * postgresql://student@/project4\n",
      "25 rows affected.\n"
     ]
    },
    {
     "data": {
      "text/html": [
       "<table>\n",
       "    <tr>\n",
       "        <th>borough</th>\n",
       "        <th>year</th>\n",
       "        <th>total_collision</th>\n",
       "        <th>injured_people</th>\n",
       "        <th>killed_people</th>\n",
       "    </tr>\n",
       "    <tr>\n",
       "        <td>BRONX</td>\n",
       "        <td>2013</td>\n",
       "        <td>19768</td>\n",
       "        <td>6259</td>\n",
       "        <td>32</td>\n",
       "    </tr>\n",
       "    <tr>\n",
       "        <td>BRONX</td>\n",
       "        <td>2014</td>\n",
       "        <td>19687</td>\n",
       "        <td>5886</td>\n",
       "        <td>19</td>\n",
       "    </tr>\n",
       "    <tr>\n",
       "        <td>BRONX</td>\n",
       "        <td>2015</td>\n",
       "        <td>21257</td>\n",
       "        <td>5626</td>\n",
       "        <td>26</td>\n",
       "    </tr>\n",
       "    <tr>\n",
       "        <td>BRONX</td>\n",
       "        <td>2016</td>\n",
       "        <td>21460</td>\n",
       "        <td>5997</td>\n",
       "        <td>20</td>\n",
       "    </tr>\n",
       "    <tr>\n",
       "        <td>BRONX</td>\n",
       "        <td>2017</td>\n",
       "        <td>21197</td>\n",
       "        <td>5838</td>\n",
       "        <td>17</td>\n",
       "    </tr>\n",
       "    <tr>\n",
       "        <td>BROOKLYN</td>\n",
       "        <td>2013</td>\n",
       "        <td>47017</td>\n",
       "        <td>15410</td>\n",
       "        <td>67</td>\n",
       "    </tr>\n",
       "    <tr>\n",
       "        <td>BROOKLYN</td>\n",
       "        <td>2014</td>\n",
       "        <td>47759</td>\n",
       "        <td>14244</td>\n",
       "        <td>67</td>\n",
       "    </tr>\n",
       "    <tr>\n",
       "        <td>BROOKLYN</td>\n",
       "        <td>2015</td>\n",
       "        <td>50847</td>\n",
       "        <td>13706</td>\n",
       "        <td>67</td>\n",
       "    </tr>\n",
       "    <tr>\n",
       "        <td>BROOKLYN</td>\n",
       "        <td>2016</td>\n",
       "        <td>47157</td>\n",
       "        <td>13404</td>\n",
       "        <td>33</td>\n",
       "    </tr>\n",
       "    <tr>\n",
       "        <td>BROOKLYN</td>\n",
       "        <td>2017</td>\n",
       "        <td>44671</td>\n",
       "        <td>12163</td>\n",
       "        <td>40</td>\n",
       "    </tr>\n",
       "    <tr>\n",
       "        <td>MANHATTAN</td>\n",
       "        <td>2013</td>\n",
       "        <td>41579</td>\n",
       "        <td>7584</td>\n",
       "        <td>39</td>\n",
       "    </tr>\n",
       "    <tr>\n",
       "        <td>MANHATTAN</td>\n",
       "        <td>2014</td>\n",
       "        <td>41264</td>\n",
       "        <td>6908</td>\n",
       "        <td>35</td>\n",
       "    </tr>\n",
       "    <tr>\n",
       "        <td>MANHATTAN</td>\n",
       "        <td>2015</td>\n",
       "        <td>42524</td>\n",
       "        <td>6530</td>\n",
       "        <td>22</td>\n",
       "    </tr>\n",
       "    <tr>\n",
       "        <td>MANHATTAN</td>\n",
       "        <td>2016</td>\n",
       "        <td>35874</td>\n",
       "        <td>6221</td>\n",
       "        <td>32</td>\n",
       "    </tr>\n",
       "    <tr>\n",
       "        <td>MANHATTAN</td>\n",
       "        <td>2017</td>\n",
       "        <td>31511</td>\n",
       "        <td>5711</td>\n",
       "        <td>32</td>\n",
       "    </tr>\n",
       "    <tr>\n",
       "        <td>QUEENS</td>\n",
       "        <td>2013</td>\n",
       "        <td>39310</td>\n",
       "        <td>10687</td>\n",
       "        <td>71</td>\n",
       "    </tr>\n",
       "    <tr>\n",
       "        <td>QUEENS</td>\n",
       "        <td>2014</td>\n",
       "        <td>41019</td>\n",
       "        <td>10028</td>\n",
       "        <td>52</td>\n",
       "    </tr>\n",
       "    <tr>\n",
       "        <td>QUEENS</td>\n",
       "        <td>2015</td>\n",
       "        <td>42488</td>\n",
       "        <td>10423</td>\n",
       "        <td>51</td>\n",
       "    </tr>\n",
       "    <tr>\n",
       "        <td>QUEENS</td>\n",
       "        <td>2016</td>\n",
       "        <td>41040</td>\n",
       "        <td>10969</td>\n",
       "        <td>32</td>\n",
       "    </tr>\n",
       "    <tr>\n",
       "        <td>QUEENS</td>\n",
       "        <td>2017</td>\n",
       "        <td>38388</td>\n",
       "        <td>10185</td>\n",
       "        <td>39</td>\n",
       "    </tr>\n",
       "    <tr>\n",
       "        <td>STATEN ISLAND</td>\n",
       "        <td>2013</td>\n",
       "        <td>8295</td>\n",
       "        <td>2111</td>\n",
       "        <td>4</td>\n",
       "    </tr>\n",
       "    <tr>\n",
       "        <td>STATEN ISLAND</td>\n",
       "        <td>2014</td>\n",
       "        <td>6614</td>\n",
       "        <td>1577</td>\n",
       "        <td>10</td>\n",
       "    </tr>\n",
       "    <tr>\n",
       "        <td>STATEN ISLAND</td>\n",
       "        <td>2015</td>\n",
       "        <td>6344</td>\n",
       "        <td>1547</td>\n",
       "        <td>12</td>\n",
       "    </tr>\n",
       "    <tr>\n",
       "        <td>STATEN ISLAND</td>\n",
       "        <td>2016</td>\n",
       "        <td>6678</td>\n",
       "        <td>1493</td>\n",
       "        <td>9</td>\n",
       "    </tr>\n",
       "    <tr>\n",
       "        <td>STATEN ISLAND</td>\n",
       "        <td>2017</td>\n",
       "        <td>6214</td>\n",
       "        <td>1576</td>\n",
       "        <td>9</td>\n",
       "    </tr>\n",
       "</table>"
      ],
      "text/plain": [
       "[('BRONX', 2013, 19768, 6259, 32),\n",
       " ('BRONX', 2014, 19687, 5886, 19),\n",
       " ('BRONX', 2015, 21257, 5626, 26),\n",
       " ('BRONX', 2016, 21460, 5997, 20),\n",
       " ('BRONX', 2017, 21197, 5838, 17),\n",
       " ('BROOKLYN', 2013, 47017, 15410, 67),\n",
       " ('BROOKLYN', 2014, 47759, 14244, 67),\n",
       " ('BROOKLYN', 2015, 50847, 13706, 67),\n",
       " ('BROOKLYN', 2016, 47157, 13404, 33),\n",
       " ('BROOKLYN', 2017, 44671, 12163, 40),\n",
       " ('MANHATTAN', 2013, 41579, 7584, 39),\n",
       " ('MANHATTAN', 2014, 41264, 6908, 35),\n",
       " ('MANHATTAN', 2015, 42524, 6530, 22),\n",
       " ('MANHATTAN', 2016, 35874, 6221, 32),\n",
       " ('MANHATTAN', 2017, 31511, 5711, 32),\n",
       " ('QUEENS', 2013, 39310, 10687, 71),\n",
       " ('QUEENS', 2014, 41019, 10028, 52),\n",
       " ('QUEENS', 2015, 42488, 10423, 51),\n",
       " ('QUEENS', 2016, 41040, 10969, 32),\n",
       " ('QUEENS', 2017, 38388, 10185, 39),\n",
       " ('STATEN ISLAND', 2013, 8295, 2111, 4),\n",
       " ('STATEN ISLAND', 2014, 6614, 1577, 10),\n",
       " ('STATEN ISLAND', 2015, 6344, 1547, 12),\n",
       " ('STATEN ISLAND', 2016, 6678, 1493, 9),\n",
       " ('STATEN ISLAND', 2017, 6214, 1576, 9)]"
      ]
     },
     "execution_count": 80,
     "metadata": {},
     "output_type": "execute_result"
    }
   ],
   "source": [
    "%%sql\n",
    "SELECT collision_location.borough, time.year, count(*) AS Total_collision, sum(persons_inj) injured_people, sum(persons_kil) killed_people\n",
    "FROM collisions\n",
    "JOIN collision_location ON collisions.collision_location_key = collision_location.collision_location_key\n",
    "JOIN time ON collisions.time_key = time.time_key\n",
    "WHERE time.year != 2012 AND time.year != 2018\n",
    "AND collision_location.borough != ''\n",
    "GROUP BY collision_location.borough, time.year\n",
    "ORDER BY collision_location.borough, time.year;"
   ]
  },
  {
   "cell_type": "markdown",
   "metadata": {},
   "source": [
    "Seems like most boroughs had increasing year-to-year accidents, injuries, and deaths until about 2015 and 2016. From there, all boroughs began experiencing declines across all three metrics.\n",
    "\n",
    "***\n",
    "\n",
    "#### Ad-hoc Analysis\n",
    "\n",
    "As we were performing the analysis above, we came up with a couple more questions we wanted to answer. First, we wanted to find the time of day and borough that had the most injuries, and compare with the number of collisions and number of deaths."
   ]
  },
  {
   "cell_type": "code",
   "execution_count": 81,
   "metadata": {},
   "outputs": [
    {
     "name": "stdout",
     "output_type": "stream",
     "text": [
      " * postgresql://student@/project4\n",
      "20 rows affected.\n"
     ]
    },
    {
     "data": {
      "text/html": [
       "<table>\n",
       "    <tr>\n",
       "        <th>time_of_day</th>\n",
       "        <th>borough</th>\n",
       "        <th>total_collision</th>\n",
       "        <th>injured_people</th>\n",
       "        <th>killed_people</th>\n",
       "    </tr>\n",
       "    <tr>\n",
       "        <td>Afternoon</td>\n",
       "        <td>BROOKLYN</td>\n",
       "        <td>122393</td>\n",
       "        <td>32428</td>\n",
       "        <td>95</td>\n",
       "    </tr>\n",
       "    <tr>\n",
       "        <td>Afternoon</td>\n",
       "        <td>QUEENS</td>\n",
       "        <td>101780</td>\n",
       "        <td>24478</td>\n",
       "        <td>82</td>\n",
       "    </tr>\n",
       "    <tr>\n",
       "        <td>Evening</td>\n",
       "        <td>BROOKLYN</td>\n",
       "        <td>58189</td>\n",
       "        <td>20102</td>\n",
       "        <td>77</td>\n",
       "    </tr>\n",
       "    <tr>\n",
       "        <td>Morning</td>\n",
       "        <td>BROOKLYN</td>\n",
       "        <td>79847</td>\n",
       "        <td>19728</td>\n",
       "        <td>73</td>\n",
       "    </tr>\n",
       "    <tr>\n",
       "        <td>Morning</td>\n",
       "        <td>QUEENS</td>\n",
       "        <td>69913</td>\n",
       "        <td>16652</td>\n",
       "        <td>62</td>\n",
       "    </tr>\n",
       "    <tr>\n",
       "        <td>Night</td>\n",
       "        <td>BROOKLYN</td>\n",
       "        <td>41231</td>\n",
       "        <td>15527</td>\n",
       "        <td>95</td>\n",
       "    </tr>\n",
       "    <tr>\n",
       "        <td>Evening</td>\n",
       "        <td>QUEENS</td>\n",
       "        <td>50319</td>\n",
       "        <td>14938</td>\n",
       "        <td>68</td>\n",
       "    </tr>\n",
       "    <tr>\n",
       "        <td>Afternoon</td>\n",
       "        <td>MANHATTAN</td>\n",
       "        <td>92977</td>\n",
       "        <td>14385</td>\n",
       "        <td>70</td>\n",
       "    </tr>\n",
       "    <tr>\n",
       "        <td>Afternoon</td>\n",
       "        <td>BRONX</td>\n",
       "        <td>51671</td>\n",
       "        <td>13904</td>\n",
       "        <td>37</td>\n",
       "    </tr>\n",
       "    <tr>\n",
       "        <td>Night</td>\n",
       "        <td>QUEENS</td>\n",
       "        <td>35030</td>\n",
       "        <td>11015</td>\n",
       "        <td>106</td>\n",
       "    </tr>\n",
       "    <tr>\n",
       "        <td>Evening</td>\n",
       "        <td>MANHATTAN</td>\n",
       "        <td>46771</td>\n",
       "        <td>9044</td>\n",
       "        <td>39</td>\n",
       "    </tr>\n",
       "    <tr>\n",
       "        <td>Night</td>\n",
       "        <td>MANHATTAN</td>\n",
       "        <td>40236</td>\n",
       "        <td>9044</td>\n",
       "        <td>48</td>\n",
       "    </tr>\n",
       "    <tr>\n",
       "        <td>Morning</td>\n",
       "        <td>MANHATTAN</td>\n",
       "        <td>60748</td>\n",
       "        <td>8996</td>\n",
       "        <td>37</td>\n",
       "    </tr>\n",
       "    <tr>\n",
       "        <td>Evening</td>\n",
       "        <td>BRONX</td>\n",
       "        <td>25682</td>\n",
       "        <td>8689</td>\n",
       "        <td>34</td>\n",
       "    </tr>\n",
       "    <tr>\n",
       "        <td>Morning</td>\n",
       "        <td>BRONX</td>\n",
       "        <td>36388</td>\n",
       "        <td>8620</td>\n",
       "        <td>31</td>\n",
       "    </tr>\n",
       "    <tr>\n",
       "        <td>Night</td>\n",
       "        <td>BRONX</td>\n",
       "        <td>18946</td>\n",
       "        <td>6562</td>\n",
       "        <td>47</td>\n",
       "    </tr>\n",
       "    <tr>\n",
       "        <td>Afternoon</td>\n",
       "        <td>STATEN ISLAND</td>\n",
       "        <td>19338</td>\n",
       "        <td>4423</td>\n",
       "        <td>18</td>\n",
       "    </tr>\n",
       "    <tr>\n",
       "        <td>Morning</td>\n",
       "        <td>STATEN ISLAND</td>\n",
       "        <td>11554</td>\n",
       "        <td>2568</td>\n",
       "        <td>10</td>\n",
       "    </tr>\n",
       "    <tr>\n",
       "        <td>Evening</td>\n",
       "        <td>STATEN ISLAND</td>\n",
       "        <td>8518</td>\n",
       "        <td>2287</td>\n",
       "        <td>16</td>\n",
       "    </tr>\n",
       "    <tr>\n",
       "        <td>Night</td>\n",
       "        <td>STATEN ISLAND</td>\n",
       "        <td>4958</td>\n",
       "        <td>1411</td>\n",
       "        <td>16</td>\n",
       "    </tr>\n",
       "</table>"
      ],
      "text/plain": [
       "[('Afternoon', 'BROOKLYN', 122393, 32428, 95),\n",
       " ('Afternoon', 'QUEENS', 101780, 24478, 82),\n",
       " ('Evening', 'BROOKLYN', 58189, 20102, 77),\n",
       " ('Morning', 'BROOKLYN', 79847, 19728, 73),\n",
       " ('Morning', 'QUEENS', 69913, 16652, 62),\n",
       " ('Night', 'BROOKLYN', 41231, 15527, 95),\n",
       " ('Evening', 'QUEENS', 50319, 14938, 68),\n",
       " ('Afternoon', 'MANHATTAN', 92977, 14385, 70),\n",
       " ('Afternoon', 'BRONX', 51671, 13904, 37),\n",
       " ('Night', 'QUEENS', 35030, 11015, 106),\n",
       " ('Evening', 'MANHATTAN', 46771, 9044, 39),\n",
       " ('Night', 'MANHATTAN', 40236, 9044, 48),\n",
       " ('Morning', 'MANHATTAN', 60748, 8996, 37),\n",
       " ('Evening', 'BRONX', 25682, 8689, 34),\n",
       " ('Morning', 'BRONX', 36388, 8620, 31),\n",
       " ('Night', 'BRONX', 18946, 6562, 47),\n",
       " ('Afternoon', 'STATEN ISLAND', 19338, 4423, 18),\n",
       " ('Morning', 'STATEN ISLAND', 11554, 2568, 10),\n",
       " ('Evening', 'STATEN ISLAND', 8518, 2287, 16),\n",
       " ('Night', 'STATEN ISLAND', 4958, 1411, 16)]"
      ]
     },
     "execution_count": 81,
     "metadata": {},
     "output_type": "execute_result"
    }
   ],
   "source": [
    "%%sql\n",
    "SELECT time.time_of_day, collision_location.borough, count(*) AS Total_collision, sum(persons_inj) injured_people, sum(persons_kil) killed_people\n",
    "FROM collisions\n",
    "JOIN collision_location ON collisions.collision_location_key = collision_location.collision_location_key\n",
    "JOIN time ON collisions.time_key = time.time_key\n",
    "AND collision_location.borough != ''\n",
    "GROUP BY time.time_of_day, collision_location.borough\n",
    "ORDER BY sum(persons_inj) DESC;"
   ]
  },
  {
   "cell_type": "markdown",
   "metadata": {},
   "source": [
    "Brooklyn and Queens in the afternoon seems to be the most dangerous (injury-wise). Brooklyn in the evening is also pretty bad! These once again make sense as these two boroughs have the highest population and afternoon is when people going home after work cause the most accidents.\n",
    "\n",
    "Let's find which time of day and contributing factor had the most injuries, along with the number of accidents and deaths."
   ]
  },
  {
   "cell_type": "code",
   "execution_count": 82,
   "metadata": {},
   "outputs": [
    {
     "name": "stdout",
     "output_type": "stream",
     "text": [
      " * postgresql://student@/project4\n",
      "10 rows affected.\n"
     ]
    },
    {
     "data": {
      "text/html": [
       "<table>\n",
       "    <tr>\n",
       "        <th>time_of_day</th>\n",
       "        <th>contributing_factors</th>\n",
       "        <th>total_collision</th>\n",
       "        <th>total_injury</th>\n",
       "        <th>total_killed</th>\n",
       "    </tr>\n",
       "    <tr>\n",
       "        <td>Afternoon</td>\n",
       "        <td>Driver Inattention/Distraction</td>\n",
       "        <td>113829</td>\n",
       "        <td>27752</td>\n",
       "        <td>54</td>\n",
       "    </tr>\n",
       "    <tr>\n",
       "        <td>Morning</td>\n",
       "        <td>Driver Inattention/Distraction</td>\n",
       "        <td>72262</td>\n",
       "        <td>17326</td>\n",
       "        <td>38</td>\n",
       "    </tr>\n",
       "    <tr>\n",
       "        <td>Evening</td>\n",
       "        <td>Driver Inattention/Distraction</td>\n",
       "        <td>56003</td>\n",
       "        <td>16169</td>\n",
       "        <td>38</td>\n",
       "    </tr>\n",
       "    <tr>\n",
       "        <td>Night</td>\n",
       "        <td>Driver Inattention/Distraction</td>\n",
       "        <td>40080</td>\n",
       "        <td>13281</td>\n",
       "        <td>78</td>\n",
       "    </tr>\n",
       "    <tr>\n",
       "        <td>Afternoon</td>\n",
       "        <td>Failure to Yield Right-of-Way</td>\n",
       "        <td>34140</td>\n",
       "        <td>12575</td>\n",
       "        <td>55</td>\n",
       "    </tr>\n",
       "    <tr>\n",
       "        <td>Morning</td>\n",
       "        <td>Failure to Yield Right-of-Way</td>\n",
       "        <td>22109</td>\n",
       "        <td>8396</td>\n",
       "        <td>42</td>\n",
       "    </tr>\n",
       "    <tr>\n",
       "        <td>Evening</td>\n",
       "        <td>Failure to Yield Right-of-Way</td>\n",
       "        <td>17492</td>\n",
       "        <td>8235</td>\n",
       "        <td>29</td>\n",
       "    </tr>\n",
       "    <tr>\n",
       "        <td>Afternoon</td>\n",
       "        <td>Following Too Closely</td>\n",
       "        <td>24254</td>\n",
       "        <td>7839</td>\n",
       "        <td>5</td>\n",
       "    </tr>\n",
       "    <tr>\n",
       "        <td>Afternoon</td>\n",
       "        <td>Fatigued/Drowsy</td>\n",
       "        <td>26319</td>\n",
       "        <td>6995</td>\n",
       "        <td>0</td>\n",
       "    </tr>\n",
       "    <tr>\n",
       "        <td>Afternoon</td>\n",
       "        <td>Other Vehicular</td>\n",
       "        <td>27237</td>\n",
       "        <td>5070</td>\n",
       "        <td>13</td>\n",
       "    </tr>\n",
       "</table>"
      ],
      "text/plain": [
       "[('Afternoon', 'Driver Inattention/Distraction', Decimal('113829'), Decimal('27752'), Decimal('54')),\n",
       " ('Morning', 'Driver Inattention/Distraction', Decimal('72262'), Decimal('17326'), Decimal('38')),\n",
       " ('Evening', 'Driver Inattention/Distraction', Decimal('56003'), Decimal('16169'), Decimal('38')),\n",
       " ('Night', 'Driver Inattention/Distraction', Decimal('40080'), Decimal('13281'), Decimal('78')),\n",
       " ('Afternoon', 'Failure to Yield Right-of-Way', Decimal('34140'), Decimal('12575'), Decimal('55')),\n",
       " ('Morning', 'Failure to Yield Right-of-Way', Decimal('22109'), Decimal('8396'), Decimal('42')),\n",
       " ('Evening', 'Failure to Yield Right-of-Way', Decimal('17492'), Decimal('8235'), Decimal('29')),\n",
       " ('Afternoon', 'Following Too Closely', Decimal('24254'), Decimal('7839'), Decimal('5')),\n",
       " ('Afternoon', 'Fatigued/Drowsy', Decimal('26319'), Decimal('6995'), Decimal('0')),\n",
       " ('Afternoon', 'Other Vehicular', Decimal('27237'), Decimal('5070'), Decimal('13'))]"
      ]
     },
     "execution_count": 82,
     "metadata": {},
     "output_type": "execute_result"
    }
   ],
   "source": [
    "%%sql\n",
    "SELECT time.time_of_day, F.factor AS Contributing_Factors, sum(collision_num) AS Total_collision, sum(F.injured) AS Total_injury, sum(F.killed) AS Total_killed\n",
    "FROM(\n",
    "    SELECT contributing_factors.factor1 factor, count(contributing_factors.factor1) collision_num, collisions.time_key, sum(persons_inj) injured, sum(persons_kil) killed\n",
    "    FROM collisions\n",
    "    JOIN contributing_factors ON collisions.factor_key = contributing_factors.factor_key\n",
    "    GROUP BY contributing_factors.factor1, collisions.time_key\n",
    "    \n",
    "    UNION ALL\n",
    "    \n",
    "    SELECT contributing_factors.factor2, count(contributing_factors.factor2), collisions.time_key, sum(persons_inj) injured_people, sum(persons_kil)\n",
    "    FROM collisions\n",
    "    JOIN contributing_factors ON collisions.factor_key = contributing_factors.factor_key\n",
    "    GROUP BY contributing_factors.factor2, collisions.time_key\n",
    "    \n",
    "    UNION ALL\n",
    "    \n",
    "    SELECT contributing_factors.factor3, count(contributing_factors.factor3), collisions.time_key, sum(persons_inj) injured_people, sum(persons_kil)\n",
    "    FROM collisions\n",
    "    JOIN contributing_factors ON collisions.factor_key = contributing_factors.factor_key\n",
    "    GROUP BY contributing_factors.factor3, collisions.time_key\n",
    "    \n",
    "    UNION ALL\n",
    "    \n",
    "    SELECT contributing_factors.factor4, count(contributing_factors.factor4), collisions.time_key, sum(persons_inj) injured_people, sum(persons_kil)\n",
    "    FROM collisions\n",
    "    JOIN contributing_factors ON collisions.factor_key = contributing_factors.factor_key\n",
    "    GROUP BY contributing_factors.factor4, collisions.time_key\n",
    "    \n",
    "    UNION ALL\n",
    "    \n",
    "    SELECT contributing_factors.factor5, count(contributing_factors.factor5), collisions.time_key, sum(persons_inj) injured_people, sum(persons_kil)\n",
    "    FROM collisions\n",
    "    JOIN contributing_factors ON collisions.factor_key = contributing_factors.factor_key\n",
    "    GROUP BY contributing_factors.factor5, collisions.time_key\n",
    ") AS F\n",
    "\n",
    "JOIN time ON time.time_key = F.time_key\n",
    "GROUP BY time.time_of_day, F.factor\n",
    "HAVING F.factor != 'Unspecified'\n",
    "AND F.factor != ''\n",
    "ORDER BY sum(F.injured) DESC\n",
    "LIMIT 10;"
   ]
  },
  {
   "cell_type": "markdown",
   "metadata": {},
   "source": [
    "![](https://drive.google.com/uc?id=1a-XuHo1opKss8UpyO8qHLXPV-PK24QLh)\n",
    "\n",
    "Seems like no matter what the time of day, driver innattention/distraction causes the most injuries. One thing that stood out to us was that driver inattention/distraction at night leads to proportionally more fatalities than at any other time of day! So drivers should be even more attentive when driving at night.\n",
    "\n",
    "***\n",
    "\n",
    "#### BONUS - How does precipitation affect the number of accidents, injuries, and deaths?\n",
    "\n",
    "We first look at collisions during which we have precipitation data and compare, on the month level, the number of collisions, number of people injured, number of people killed, and average precipitation."
   ]
  },
  {
   "cell_type": "code",
   "execution_count": 83,
   "metadata": {},
   "outputs": [
    {
     "name": "stdout",
     "output_type": "stream",
     "text": [
      " * postgresql://student@/project4\n",
      "12 rows affected.\n"
     ]
    },
    {
     "data": {
      "text/html": [
       "<table>\n",
       "    <tr>\n",
       "        <th>month</th>\n",
       "        <th>total_collision</th>\n",
       "        <th>injured_people</th>\n",
       "        <th>killed_people</th>\n",
       "        <th>avg_precip</th>\n",
       "    </tr>\n",
       "    <tr>\n",
       "        <td>1</td>\n",
       "        <td>2449</td>\n",
       "        <td>721</td>\n",
       "        <td>4</td>\n",
       "        <td>0.023</td>\n",
       "    </tr>\n",
       "    <tr>\n",
       "        <td>2</td>\n",
       "        <td>3694</td>\n",
       "        <td>965</td>\n",
       "        <td>6</td>\n",
       "        <td>0.020</td>\n",
       "    </tr>\n",
       "    <tr>\n",
       "        <td>3</td>\n",
       "        <td>3920</td>\n",
       "        <td>1011</td>\n",
       "        <td>7</td>\n",
       "        <td>0.019</td>\n",
       "    </tr>\n",
       "    <tr>\n",
       "        <td>4</td>\n",
       "        <td>1752</td>\n",
       "        <td>496</td>\n",
       "        <td>1</td>\n",
       "        <td>0.031</td>\n",
       "    </tr>\n",
       "    <tr>\n",
       "        <td>5</td>\n",
       "        <td>3628</td>\n",
       "        <td>1013</td>\n",
       "        <td>0</td>\n",
       "        <td>0.025</td>\n",
       "    </tr>\n",
       "    <tr>\n",
       "        <td>6</td>\n",
       "        <td>3547</td>\n",
       "        <td>986</td>\n",
       "        <td>5</td>\n",
       "        <td>0.075</td>\n",
       "    </tr>\n",
       "    <tr>\n",
       "        <td>7</td>\n",
       "        <td>4056</td>\n",
       "        <td>1201</td>\n",
       "        <td>0</td>\n",
       "        <td>0.033</td>\n",
       "    </tr>\n",
       "    <tr>\n",
       "        <td>8</td>\n",
       "        <td>3716</td>\n",
       "        <td>1020</td>\n",
       "        <td>5</td>\n",
       "        <td>0.059</td>\n",
       "    </tr>\n",
       "    <tr>\n",
       "        <td>9</td>\n",
       "        <td>3187</td>\n",
       "        <td>1012</td>\n",
       "        <td>7</td>\n",
       "        <td>0.050</td>\n",
       "    </tr>\n",
       "    <tr>\n",
       "        <td>10</td>\n",
       "        <td>4101</td>\n",
       "        <td>1223</td>\n",
       "        <td>6</td>\n",
       "        <td>0.021</td>\n",
       "    </tr>\n",
       "    <tr>\n",
       "        <td>11</td>\n",
       "        <td>4780</td>\n",
       "        <td>1337</td>\n",
       "        <td>7</td>\n",
       "        <td>0.026</td>\n",
       "    </tr>\n",
       "    <tr>\n",
       "        <td>12</td>\n",
       "        <td>8801</td>\n",
       "        <td>2408</td>\n",
       "        <td>10</td>\n",
       "        <td>0.026</td>\n",
       "    </tr>\n",
       "</table>"
      ],
      "text/plain": [
       "[(1, 2449, 721, 4, Decimal('0.023')),\n",
       " (2, 3694, 965, 6, Decimal('0.020')),\n",
       " (3, 3920, 1011, 7, Decimal('0.019')),\n",
       " (4, 1752, 496, 1, Decimal('0.031')),\n",
       " (5, 3628, 1013, 0, Decimal('0.025')),\n",
       " (6, 3547, 986, 5, Decimal('0.075')),\n",
       " (7, 4056, 1201, 0, Decimal('0.033')),\n",
       " (8, 3716, 1020, 5, Decimal('0.059')),\n",
       " (9, 3187, 1012, 7, Decimal('0.050')),\n",
       " (10, 4101, 1223, 6, Decimal('0.021')),\n",
       " (11, 4780, 1337, 7, Decimal('0.026')),\n",
       " (12, 8801, 2408, 10, Decimal('0.026'))]"
      ]
     },
     "execution_count": 83,
     "metadata": {},
     "output_type": "execute_result"
    }
   ],
   "source": [
    "%%sql\n",
    "SELECT time.month, count(*) AS Total_collision, sum(persons_inj) injured_people, sum(persons_kil) killed_people, ROUND(avg(weather.precip),3) avg_precip\n",
    "FROM collisions\n",
    "JOIN time ON collisions.time_key = time.time_key\n",
    "JOIN weather ON collisions.weather_key = weather.weather_key\n",
    "GROUP BY time.month\n",
    "ORDER BY time.month;"
   ]
  },
  {
   "cell_type": "markdown",
   "metadata": {},
   "source": [
    "![](https://drive.google.com/uc?id=1LXOUnks8qhBJA89kG4kSh9ChzxeSwQaw)\n",
    "\n",
    "Seems like average precipitation levels have no effect on the number of collisions, injuries, or people killed.\n",
    "\n",
    "Maybe we need to look at a different aggregation level to find an effect. Let's perform the same analysis as above but at the hour level."
   ]
  },
  {
   "cell_type": "code",
   "execution_count": 84,
   "metadata": {},
   "outputs": [
    {
     "name": "stdout",
     "output_type": "stream",
     "text": [
      " * postgresql://student@/project4\n",
      "24 rows affected.\n"
     ]
    },
    {
     "data": {
      "text/html": [
       "<table>\n",
       "    <tr>\n",
       "        <th>hour</th>\n",
       "        <th>total_collision</th>\n",
       "        <th>injured_people</th>\n",
       "        <th>killed_people</th>\n",
       "        <th>avg_precip</th>\n",
       "    </tr>\n",
       "    <tr>\n",
       "        <td>0</td>\n",
       "        <td>1179</td>\n",
       "        <td>354</td>\n",
       "        <td>4</td>\n",
       "        <td>0.030</td>\n",
       "    </tr>\n",
       "    <tr>\n",
       "        <td>1</td>\n",
       "        <td>937</td>\n",
       "        <td>318</td>\n",
       "        <td>5</td>\n",
       "        <td>0.056</td>\n",
       "    </tr>\n",
       "    <tr>\n",
       "        <td>2</td>\n",
       "        <td>634</td>\n",
       "        <td>202</td>\n",
       "        <td>1</td>\n",
       "        <td>0.059</td>\n",
       "    </tr>\n",
       "    <tr>\n",
       "        <td>3</td>\n",
       "        <td>498</td>\n",
       "        <td>182</td>\n",
       "        <td>3</td>\n",
       "        <td>0.030</td>\n",
       "    </tr>\n",
       "    <tr>\n",
       "        <td>4</td>\n",
       "        <td>643</td>\n",
       "        <td>211</td>\n",
       "        <td>1</td>\n",
       "        <td>0.032</td>\n",
       "    </tr>\n",
       "    <tr>\n",
       "        <td>5</td>\n",
       "        <td>740</td>\n",
       "        <td>254</td>\n",
       "        <td>2</td>\n",
       "        <td>0.031</td>\n",
       "    </tr>\n",
       "    <tr>\n",
       "        <td>6</td>\n",
       "        <td>1042</td>\n",
       "        <td>333</td>\n",
       "        <td>2</td>\n",
       "        <td>0.019</td>\n",
       "    </tr>\n",
       "    <tr>\n",
       "        <td>7</td>\n",
       "        <td>1452</td>\n",
       "        <td>457</td>\n",
       "        <td>2</td>\n",
       "        <td>0.013</td>\n",
       "    </tr>\n",
       "    <tr>\n",
       "        <td>8</td>\n",
       "        <td>2747</td>\n",
       "        <td>683</td>\n",
       "        <td>0</td>\n",
       "        <td>0.019</td>\n",
       "    </tr>\n",
       "    <tr>\n",
       "        <td>9</td>\n",
       "        <td>2511</td>\n",
       "        <td>553</td>\n",
       "        <td>0</td>\n",
       "        <td>0.029</td>\n",
       "    </tr>\n",
       "    <tr>\n",
       "        <td>10</td>\n",
       "        <td>2232</td>\n",
       "        <td>476</td>\n",
       "        <td>1</td>\n",
       "        <td>0.027</td>\n",
       "    </tr>\n",
       "    <tr>\n",
       "        <td>11</td>\n",
       "        <td>2289</td>\n",
       "        <td>496</td>\n",
       "        <td>1</td>\n",
       "        <td>0.041</td>\n",
       "    </tr>\n",
       "    <tr>\n",
       "        <td>12</td>\n",
       "        <td>2326</td>\n",
       "        <td>568</td>\n",
       "        <td>0</td>\n",
       "        <td>0.064</td>\n",
       "    </tr>\n",
       "    <tr>\n",
       "        <td>13</td>\n",
       "        <td>2833</td>\n",
       "        <td>648</td>\n",
       "        <td>0</td>\n",
       "        <td>0.038</td>\n",
       "    </tr>\n",
       "    <tr>\n",
       "        <td>14</td>\n",
       "        <td>3109</td>\n",
       "        <td>831</td>\n",
       "        <td>2</td>\n",
       "        <td>0.025</td>\n",
       "    </tr>\n",
       "    <tr>\n",
       "        <td>15</td>\n",
       "        <td>2775</td>\n",
       "        <td>751</td>\n",
       "        <td>0</td>\n",
       "        <td>0.027</td>\n",
       "    </tr>\n",
       "    <tr>\n",
       "        <td>16</td>\n",
       "        <td>3430</td>\n",
       "        <td>914</td>\n",
       "        <td>2</td>\n",
       "        <td>0.040</td>\n",
       "    </tr>\n",
       "    <tr>\n",
       "        <td>17</td>\n",
       "        <td>3127</td>\n",
       "        <td>868</td>\n",
       "        <td>7</td>\n",
       "        <td>0.032</td>\n",
       "    </tr>\n",
       "    <tr>\n",
       "        <td>18</td>\n",
       "        <td>2935</td>\n",
       "        <td>900</td>\n",
       "        <td>6</td>\n",
       "        <td>0.025</td>\n",
       "    </tr>\n",
       "    <tr>\n",
       "        <td>19</td>\n",
       "        <td>2740</td>\n",
       "        <td>833</td>\n",
       "        <td>5</td>\n",
       "        <td>0.029</td>\n",
       "    </tr>\n",
       "    <tr>\n",
       "        <td>20</td>\n",
       "        <td>2477</td>\n",
       "        <td>817</td>\n",
       "        <td>6</td>\n",
       "        <td>0.052</td>\n",
       "    </tr>\n",
       "    <tr>\n",
       "        <td>21</td>\n",
       "        <td>1969</td>\n",
       "        <td>679</td>\n",
       "        <td>1</td>\n",
       "        <td>0.032</td>\n",
       "    </tr>\n",
       "    <tr>\n",
       "        <td>22</td>\n",
       "        <td>1633</td>\n",
       "        <td>571</td>\n",
       "        <td>5</td>\n",
       "        <td>0.030</td>\n",
       "    </tr>\n",
       "    <tr>\n",
       "        <td>23</td>\n",
       "        <td>1373</td>\n",
       "        <td>494</td>\n",
       "        <td>2</td>\n",
       "        <td>0.022</td>\n",
       "    </tr>\n",
       "</table>"
      ],
      "text/plain": [
       "[(0, 1179, 354, 4, Decimal('0.030')),\n",
       " (1, 937, 318, 5, Decimal('0.056')),\n",
       " (2, 634, 202, 1, Decimal('0.059')),\n",
       " (3, 498, 182, 3, Decimal('0.030')),\n",
       " (4, 643, 211, 1, Decimal('0.032')),\n",
       " (5, 740, 254, 2, Decimal('0.031')),\n",
       " (6, 1042, 333, 2, Decimal('0.019')),\n",
       " (7, 1452, 457, 2, Decimal('0.013')),\n",
       " (8, 2747, 683, 0, Decimal('0.019')),\n",
       " (9, 2511, 553, 0, Decimal('0.029')),\n",
       " (10, 2232, 476, 1, Decimal('0.027')),\n",
       " (11, 2289, 496, 1, Decimal('0.041')),\n",
       " (12, 2326, 568, 0, Decimal('0.064')),\n",
       " (13, 2833, 648, 0, Decimal('0.038')),\n",
       " (14, 3109, 831, 2, Decimal('0.025')),\n",
       " (15, 2775, 751, 0, Decimal('0.027')),\n",
       " (16, 3430, 914, 2, Decimal('0.040')),\n",
       " (17, 3127, 868, 7, Decimal('0.032')),\n",
       " (18, 2935, 900, 6, Decimal('0.025')),\n",
       " (19, 2740, 833, 5, Decimal('0.029')),\n",
       " (20, 2477, 817, 6, Decimal('0.052')),\n",
       " (21, 1969, 679, 1, Decimal('0.032')),\n",
       " (22, 1633, 571, 5, Decimal('0.030')),\n",
       " (23, 1373, 494, 2, Decimal('0.022'))]"
      ]
     },
     "execution_count": 84,
     "metadata": {},
     "output_type": "execute_result"
    }
   ],
   "source": [
    "%%sql\n",
    "SELECT time.hour, count(*) AS Total_collision, sum(persons_inj) injured_people, sum(persons_kil) killed_people, ROUND(avg(weather.precip),3) avg_precip\n",
    "FROM collisions\n",
    "JOIN time ON collisions.time_key = time.time_key\n",
    "JOIN weather ON collisions.weather_key = weather.weather_key\n",
    "GROUP BY time.hour\n",
    "ORDER BY time.hour;"
   ]
  },
  {
   "cell_type": "markdown",
   "metadata": {},
   "source": [
    "![](https://drive.google.com/uc?id=1G52wQcBfa4Hq4-xMvq_0ypYyI-iOnrpW)\n",
    "\n",
    "Again, average precipitation levels seem to share no relationship with the number of collisions, injuries, or deaths.\n",
    "\n",
    "Instead of looking for correlation between collisions and the *level* of precipitation, we decided to find if injury and death rates are different with our without precipitation."
   ]
  },
  {
   "cell_type": "code",
   "execution_count": 85,
   "metadata": {},
   "outputs": [
    {
     "name": "stdout",
     "output_type": "stream",
     "text": [
      " * postgresql://student@/project4\n",
      "2 rows affected.\n"
     ]
    },
    {
     "data": {
      "text/html": [
       "<table>\n",
       "    <tr>\n",
       "        <th>precip_level</th>\n",
       "        <th>injury_per_accident</th>\n",
       "        <th>deaths_per_accident</th>\n",
       "    </tr>\n",
       "    <tr>\n",
       "        <td>Precipitation = 0</td>\n",
       "        <td>0.28114</td>\n",
       "        <td>0.00135</td>\n",
       "    </tr>\n",
       "    <tr>\n",
       "        <td>Precipitation &gt; 0</td>\n",
       "        <td>0.28122</td>\n",
       "        <td>0.00109</td>\n",
       "    </tr>\n",
       "</table>"
      ],
      "text/plain": [
       "[('Precipitation = 0', Decimal('0.28114'), Decimal('0.00135')),\n",
       " ('Precipitation > 0', Decimal('0.28122'), Decimal('0.00109'))]"
      ]
     },
     "execution_count": 85,
     "metadata": {},
     "output_type": "execute_result"
    }
   ],
   "source": [
    "%%sql\n",
    "SELECT 'Precipitation = 0' precip_level,\n",
    "    ROUND((1.0 * SUM(collisions.persons_inj)/COUNT(collisions.*)),5) injury_per_accident,\n",
    "    ROUND((1.0 * SUM(collisions.persons_kil)/COUNT(collisions.*)),5) deaths_per_accident\n",
    "FROM collisions\n",
    "JOIN weather ON collisions.weather_key = weather.weather_key\n",
    "WHERE weather.precip = 0\n",
    "\n",
    "UNION ALL\n",
    "\n",
    "SELECT 'Precipitation > 0' precip_level,\n",
    "    ROUND((1.0 * SUM(collisions.persons_inj)/COUNT(collisions.*)),5) injury_per_accident,\n",
    "    ROUND((1.0 * SUM(collisions.persons_kil)/COUNT(collisions.*)),5) deaths_per_accident\n",
    "FROM collisions\n",
    "JOIN weather ON collisions.weather_key = weather.weather_key\n",
    "WHERE weather.precip > 0;"
   ]
  },
  {
   "cell_type": "markdown",
   "metadata": {},
   "source": [
    "Looks like the presence of precipitation doesn't change the rate of injuries per accident and the rate of deaths per accident by a significant amount.\n",
    "\n",
    "Shifting gears, what are the collision contributing factors associated with higher precipitation?"
   ]
  },
  {
   "cell_type": "code",
   "execution_count": 86,
   "metadata": {},
   "outputs": [
    {
     "name": "stdout",
     "output_type": "stream",
     "text": [
      " * postgresql://student@/project4\n",
      "10 rows affected.\n"
     ]
    },
    {
     "data": {
      "text/html": [
       "<table>\n",
       "    <tr>\n",
       "        <th>contributing_factors</th>\n",
       "        <th>avg_precip</th>\n",
       "    </tr>\n",
       "    <tr>\n",
       "        <td>shoulders defective/improper</td>\n",
       "        <td>0.113</td>\n",
       "    </tr>\n",
       "    <tr>\n",
       "        <td>obstruction/debris</td>\n",
       "        <td>0.056</td>\n",
       "    </tr>\n",
       "    <tr>\n",
       "        <td>pavement defective</td>\n",
       "        <td>0.053</td>\n",
       "    </tr>\n",
       "    <tr>\n",
       "        <td>traffic control device improper/non-working</td>\n",
       "        <td>0.047</td>\n",
       "    </tr>\n",
       "    <tr>\n",
       "        <td>pavement slippery</td>\n",
       "        <td>0.042</td>\n",
       "    </tr>\n",
       "    <tr>\n",
       "        <td>other electronic device</td>\n",
       "        <td>0.042</td>\n",
       "    </tr>\n",
       "    <tr>\n",
       "        <td>brakes defective</td>\n",
       "        <td>0.041</td>\n",
       "    </tr>\n",
       "    <tr>\n",
       "        <td>view obstructed/limited</td>\n",
       "        <td>0.040</td>\n",
       "    </tr>\n",
       "    <tr>\n",
       "        <td>windshield inadequate</td>\n",
       "        <td>0.040</td>\n",
       "    </tr>\n",
       "    <tr>\n",
       "        <td>drugs (illegal)</td>\n",
       "        <td>0.038</td>\n",
       "    </tr>\n",
       "</table>"
      ],
      "text/plain": [
       "[('shoulders defective/improper', Decimal('0.113')),\n",
       " ('obstruction/debris', Decimal('0.056')),\n",
       " ('pavement defective', Decimal('0.053')),\n",
       " ('traffic control device improper/non-working', Decimal('0.047')),\n",
       " ('pavement slippery', Decimal('0.042')),\n",
       " ('other electronic device', Decimal('0.042')),\n",
       " ('brakes defective', Decimal('0.041')),\n",
       " ('view obstructed/limited', Decimal('0.040')),\n",
       " ('windshield inadequate', Decimal('0.040')),\n",
       " ('drugs (illegal)', Decimal('0.038'))]"
      ]
     },
     "execution_count": 86,
     "metadata": {},
     "output_type": "execute_result"
    }
   ],
   "source": [
    "%%sql\n",
    "SELECT LOWER(F.factor) AS Contributing_Factors, ROUND(sum(F.precip)/sum(F.collision_count),3) avg_precip\n",
    "FROM(\n",
    "    SELECT contributing_factors.factor1 factor, count(contributing_factors.factor1) collision_count, sum(weather.precip) precip\n",
    "    FROM collisions\n",
    "    JOIN contributing_factors ON collisions.factor_key = contributing_factors.factor_key\n",
    "    JOIN weather ON collisions.weather_key = weather.weather_key\n",
    "    GROUP BY contributing_factors.factor1\n",
    "    \n",
    "    UNION ALL\n",
    "    \n",
    "    SELECT contributing_factors.factor2, count(contributing_factors.factor2) collision_count, sum(weather.precip) precip\n",
    "    FROM collisions\n",
    "    JOIN contributing_factors ON collisions.factor_key = contributing_factors.factor_key\n",
    "    JOIN weather ON collisions.weather_key = weather.weather_key\n",
    "    GROUP BY contributing_factors.factor2\n",
    "    \n",
    "    UNION ALL\n",
    "    \n",
    "    SELECT contributing_factors.factor3, count(contributing_factors.factor3) collision_count, sum(weather.precip) precip\n",
    "    FROM collisions\n",
    "    JOIN contributing_factors ON collisions.factor_key = contributing_factors.factor_key\n",
    "    JOIN weather ON collisions.weather_key = weather.weather_key\n",
    "    GROUP BY contributing_factors.factor3\n",
    "    \n",
    "    UNION ALL\n",
    "    \n",
    "    SELECT contributing_factors.factor4, count(contributing_factors.factor4) collision_count, sum(weather.precip) precip\n",
    "    FROM collisions\n",
    "    JOIN contributing_factors ON collisions.factor_key = contributing_factors.factor_key\n",
    "    JOIN weather ON collisions.weather_key = weather.weather_key\n",
    "    GROUP BY contributing_factors.factor4\n",
    "    \n",
    "    UNION ALL\n",
    "    \n",
    "    SELECT contributing_factors.factor5, count(contributing_factors.factor5) collision_count, sum(weather.precip) precip\n",
    "    FROM collisions\n",
    "    JOIN contributing_factors ON collisions.factor_key = contributing_factors.factor_key\n",
    "    JOIN weather ON collisions.weather_key = weather.weather_key\n",
    "    GROUP BY contributing_factors.factor5\n",
    ") AS F\n",
    "\n",
    "GROUP BY F.factor\n",
    "HAVING F.factor != 'Unspecified'\n",
    "AND F.factor != ''\n",
    "ORDER BY sum(F.precip)/sum(F.collision_count) DESC\n",
    "LIMIT 10;"
   ]
  },
  {
   "cell_type": "markdown",
   "metadata": {},
   "source": [
    "![](https://drive.google.com/uc?id=1006Q5FJ4D90mKxNuCxrxvMwTde3d-vwX)\n",
    "\n",
    "Looks like infrastructure problems like defective shoulders and pavement, and non-working traffic control devices as causes of accidents associated with higher levels of precipitation. This is to be expected as rain and snow are known for putting stress on various elements of a city's transit infrastructure."
   ]
  }
 ],
 "metadata": {
  "kernelspec": {
   "display_name": "Python 3",
   "language": "python",
   "name": "python3"
  },
  "language_info": {
   "codemirror_mode": {
    "name": "ipython",
    "version": 3
   },
   "file_extension": ".py",
   "mimetype": "text/x-python",
   "name": "python",
   "nbconvert_exporter": "python",
   "pygments_lexer": "ipython3",
   "version": "3.5.3"
  }
 },
 "nbformat": 4,
 "nbformat_minor": 2
}
